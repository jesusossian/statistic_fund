{
 "cells": [
  {
   "cell_type": "markdown",
   "metadata": {},
   "source": [
    "## Gráficos"
   ]
  },
  {
   "cell_type": "markdown",
   "metadata": {},
   "source": [
    "### Gráfico de setores"
   ]
  },
  {
   "cell_type": "code",
   "execution_count": 87,
   "metadata": {},
   "outputs": [],
   "source": [
    "#import de bibliotecas\n",
    "\n",
    "import matplotlib as mpl\n",
    "import matplotlib.pyplot as plt \n",
    "\n",
    "import numpy as np\n",
    "\n",
    "import pandas as pd"
   ]
  },
  {
   "cell_type": "markdown",
   "metadata": {},
   "source": [
    "### Gráfico de setores"
   ]
  },
  {
   "cell_type": "markdown",
   "metadata": {},
   "source": [
    "- População urbana $\\times$ população rural"
   ]
  },
  {
   "cell_type": "code",
   "execution_count": 88,
   "metadata": {},
   "outputs": [
    {
     "data": {
      "text/html": [
       "<div>\n",
       "<style scoped>\n",
       "    .dataframe tbody tr th:only-of-type {\n",
       "        vertical-align: middle;\n",
       "    }\n",
       "\n",
       "    .dataframe tbody tr th {\n",
       "        vertical-align: top;\n",
       "    }\n",
       "\n",
       "    .dataframe thead th {\n",
       "        text-align: right;\n",
       "    }\n",
       "</style>\n",
       "<table border=\"1\" class=\"dataframe\">\n",
       "  <thead>\n",
       "    <tr style=\"text-align: right;\">\n",
       "      <th></th>\n",
       "      <th>população</th>\n",
       "      <th>percentual</th>\n",
       "    </tr>\n",
       "  </thead>\n",
       "  <tbody>\n",
       "    <tr>\n",
       "      <th>0</th>\n",
       "      <td>urbana</td>\n",
       "      <td>84</td>\n",
       "    </tr>\n",
       "    <tr>\n",
       "      <th>1</th>\n",
       "      <td>rural</td>\n",
       "      <td>16</td>\n",
       "    </tr>\n",
       "  </tbody>\n",
       "</table>\n",
       "</div>"
      ],
      "text/plain": [
       "  população  percentual\n",
       "0    urbana          84\n",
       "1     rural          16"
      ]
     },
     "execution_count": 88,
     "metadata": {},
     "output_type": "execute_result"
    }
   ],
   "source": [
    "# data frame\n",
    "data = {\n",
    "  \"população\": [\"urbana\",\"rural\"],\n",
    "  \"percentual\": [84, 16]\n",
    "}\n",
    "\n",
    "#load data into a DataFrame object:\n",
    "df = pd.DataFrame(data)\n",
    "\n",
    "df"
   ]
  },
  {
   "cell_type": "code",
   "execution_count": 89,
   "metadata": {},
   "outputs": [],
   "source": [
    "# dados\n",
    "x = np.array(['Urbana', 'Rural'])\n",
    "y = np.array([84, 16])"
   ]
  },
  {
   "cell_type": "code",
   "execution_count": 92,
   "metadata": {},
   "outputs": [
    {
     "data": {
      "image/png": "[encoded data removed]",
      "text/plain": [
       "<Figure size 432x432 with 1 Axes>"
      ]
     },
     "metadata": {},
     "output_type": "display_data"
    }
   ],
   "source": [
    "\n",
    "\n",
    "# criando uma area plotavel\n",
    "fig, ax = plt.subplots(figsize=(6,6))  \n",
    "\n",
    "ax.set_title('Gráfico de setores - população ')\n",
    "\n",
    "ax.pie(y, labels=x, autopct='%1.1f%%')    \n",
    "# o argumento `autopct` mostra a formatacao do texto com as proporcoes\n",
    "\n",
    "#ax.axis('equal')\n",
    "\n",
    "#plt.pie(y, labels=x)\n",
    "\n",
    "fig.savefig('images/grafico_setores.jpg')\n",
    "\n",
    "plt.show()"
   ]
  },
  {
   "cell_type": "markdown",
   "metadata": {},
   "source": [
    "### Gráfico de barras"
   ]
  },
  {
   "cell_type": "markdown",
   "metadata": {},
   "source": [
    "- Países com maior número de telefones (em milhões)"
   ]
  },
  {
   "cell_type": "code",
   "execution_count": 93,
   "metadata": {},
   "outputs": [
    {
     "data": {
      "text/html": [
       "<div>\n",
       "<style scoped>\n",
       "    .dataframe tbody tr th:only-of-type {\n",
       "        vertical-align: middle;\n",
       "    }\n",
       "\n",
       "    .dataframe tbody tr th {\n",
       "        vertical-align: top;\n",
       "    }\n",
       "\n",
       "    .dataframe thead th {\n",
       "        text-align: right;\n",
       "    }\n",
       "</style>\n",
       "<table border=\"1\" class=\"dataframe\">\n",
       "  <thead>\n",
       "    <tr style=\"text-align: right;\">\n",
       "      <th></th>\n",
       "      <th>pais</th>\n",
       "      <th>qtd de telefones</th>\n",
       "    </tr>\n",
       "  </thead>\n",
       "  <tbody>\n",
       "    <tr>\n",
       "      <th>0</th>\n",
       "      <td>china</td>\n",
       "      <td>421.0</td>\n",
       "    </tr>\n",
       "    <tr>\n",
       "      <th>1</th>\n",
       "      <td>eua</td>\n",
       "      <td>153.6</td>\n",
       "    </tr>\n",
       "    <tr>\n",
       "      <th>2</th>\n",
       "      <td>japão</td>\n",
       "      <td>153.6</td>\n",
       "    </tr>\n",
       "    <tr>\n",
       "      <th>3</th>\n",
       "      <td>alemanha</td>\n",
       "      <td>112.9</td>\n",
       "    </tr>\n",
       "    <tr>\n",
       "      <th>4</th>\n",
       "      <td>reino unido</td>\n",
       "      <td>85.2</td>\n",
       "    </tr>\n",
       "    <tr>\n",
       "      <th>5</th>\n",
       "      <td>itália</td>\n",
       "      <td>79.7</td>\n",
       "    </tr>\n",
       "    <tr>\n",
       "      <th>6</th>\n",
       "      <td>brasil</td>\n",
       "      <td>73.7</td>\n",
       "    </tr>\n",
       "    <tr>\n",
       "      <th>7</th>\n",
       "      <td>frança</td>\n",
       "      <td>72.5</td>\n",
       "    </tr>\n",
       "    <tr>\n",
       "      <th>8</th>\n",
       "      <td>coreia do sul</td>\n",
       "      <td>55.6</td>\n",
       "    </tr>\n",
       "    <tr>\n",
       "      <th>9</th>\n",
       "      <td>india</td>\n",
       "      <td>54.1</td>\n",
       "    </tr>\n",
       "  </tbody>\n",
       "</table>\n",
       "</div>"
      ],
      "text/plain": [
       "            pais  qtd de telefones\n",
       "0          china             421.0\n",
       "1            eua             153.6\n",
       "2          japão             153.6\n",
       "3       alemanha             112.9\n",
       "4    reino unido              85.2\n",
       "5         itália              79.7\n",
       "6         brasil              73.7\n",
       "7         frança              72.5\n",
       "8  coreia do sul              55.6\n",
       "9          india              54.1"
      ]
     },
     "execution_count": 93,
     "metadata": {},
     "output_type": "execute_result"
    }
   ],
   "source": [
    "# dataframe\n",
    "\n",
    "data = {\n",
    "  \"pais\": [\"china\",\"eua\",\"japão\",\"alemanha\", \"reino unido\", \"itália\", \"brasil\", \"frança\", \"coreia do sul\", \"india\"],\n",
    "  \"qtd de telefones\": [421.0, 153.6, 153.6, 112.9, 85.2, 79.7, 73.7, 72.5, 55.6, 54.1]\n",
    "}\n",
    "\n",
    "#load data into a DataFrame object:\n",
    "df = pd.DataFrame(data)\n",
    "\n",
    "df"
   ]
  },
  {
   "cell_type": "code",
   "execution_count": 94,
   "metadata": {},
   "outputs": [
    {
     "data": {
      "image/png": "[encoded data removed]",
      "text/plain": [
       "<Figure size 432x288 with 1 Axes>"
      ]
     },
     "metadata": {
      "needs_background": "light"
     },
     "output_type": "display_data"
    }
   ],
   "source": [
    "fig, ax = plt.subplots(figsize=(6, 4))\n",
    "\n",
    "x = list(df[\"pais\"])\n",
    "y = list(df[\"qtd de telefones\"])\n",
    "\n",
    "plt.bar(x,y)\n",
    "\n",
    "ax.set_title('Gráfico de barras vertical')\n",
    "ax.set_xlabel('paises')\n",
    "ax.set_ylabel('qtd de telefones')\n",
    "\n",
    "fig.savefig('images/grafico1_barras_vertical.jpg')\n",
    "\n",
    "plt.show()"
   ]
  },
  {
   "cell_type": "markdown",
   "metadata": {},
   "source": [
    "-  Crescimento populacional brasileiro (em milhões)"
   ]
  },
  {
   "cell_type": "code",
   "execution_count": 95,
   "metadata": {},
   "outputs": [
    {
     "data": {
      "text/html": [
       "<div>\n",
       "<style scoped>\n",
       "    .dataframe tbody tr th:only-of-type {\n",
       "        vertical-align: middle;\n",
       "    }\n",
       "\n",
       "    .dataframe tbody tr th {\n",
       "        vertical-align: top;\n",
       "    }\n",
       "\n",
       "    .dataframe thead th {\n",
       "        text-align: right;\n",
       "    }\n",
       "</style>\n",
       "<table border=\"1\" class=\"dataframe\">\n",
       "  <thead>\n",
       "    <tr style=\"text-align: right;\">\n",
       "      <th></th>\n",
       "      <th>ano</th>\n",
       "      <th>qtd de habitantes</th>\n",
       "    </tr>\n",
       "  </thead>\n",
       "  <tbody>\n",
       "    <tr>\n",
       "      <th>0</th>\n",
       "      <td>1900</td>\n",
       "      <td>17.4</td>\n",
       "    </tr>\n",
       "    <tr>\n",
       "      <th>1</th>\n",
       "      <td>1920</td>\n",
       "      <td>30.6</td>\n",
       "    </tr>\n",
       "    <tr>\n",
       "      <th>2</th>\n",
       "      <td>1940</td>\n",
       "      <td>41.2</td>\n",
       "    </tr>\n",
       "    <tr>\n",
       "      <th>3</th>\n",
       "      <td>1960</td>\n",
       "      <td>51.9</td>\n",
       "    </tr>\n",
       "    <tr>\n",
       "      <th>4</th>\n",
       "      <td>1960</td>\n",
       "      <td>70.0</td>\n",
       "    </tr>\n",
       "    <tr>\n",
       "      <th>5</th>\n",
       "      <td>1970</td>\n",
       "      <td>93.1</td>\n",
       "    </tr>\n",
       "    <tr>\n",
       "      <th>6</th>\n",
       "      <td>1980</td>\n",
       "      <td>119.0</td>\n",
       "    </tr>\n",
       "    <tr>\n",
       "      <th>7</th>\n",
       "      <td>1990</td>\n",
       "      <td>146.8</td>\n",
       "    </tr>\n",
       "    <tr>\n",
       "      <th>8</th>\n",
       "      <td>2000</td>\n",
       "      <td>169.8</td>\n",
       "    </tr>\n",
       "    <tr>\n",
       "      <th>9</th>\n",
       "      <td>2010</td>\n",
       "      <td>190.7</td>\n",
       "    </tr>\n",
       "  </tbody>\n",
       "</table>\n",
       "</div>"
      ],
      "text/plain": [
       "    ano  qtd de habitantes\n",
       "0  1900               17.4\n",
       "1  1920               30.6\n",
       "2  1940               41.2\n",
       "3  1960               51.9\n",
       "4  1960               70.0\n",
       "5  1970               93.1\n",
       "6  1980              119.0\n",
       "7  1990              146.8\n",
       "8  2000              169.8\n",
       "9  2010              190.7"
      ]
     },
     "execution_count": 95,
     "metadata": {},
     "output_type": "execute_result"
    }
   ],
   "source": [
    "# dataframe\n",
    "\n",
    "data = {\n",
    "  \"ano\": [1900, 1920, 1940, 1960, 1960, 1970, 1980, 1990, 2000, 2010],\n",
    "  \"qtd de habitantes\": [17.4, 30.6, 41.2, 51.9, 70.0, 93.1, 119.0, 146.8, 169.8, 190.7]\n",
    "}\n",
    "\n",
    "#load data into a DataFrame object:\n",
    "df = pd.DataFrame(data)\n",
    "\n",
    "df"
   ]
  },
  {
   "cell_type": "code",
   "execution_count": 96,
   "metadata": {},
   "outputs": [
    {
     "data": {
      "image/png": "[encoded data removed]",
      "text/plain": [
       "<Figure size 432x288 with 1 Axes>"
      ]
     },
     "metadata": {
      "needs_background": "light"
     },
     "output_type": "display_data"
    }
   ],
   "source": [
    "fig, ax = plt.subplots(figsize=(6, 4))\n",
    "\n",
    "x = list(df[\"ano\"])\n",
    "y = list(df[\"qtd de habitantes\"])\n",
    "\n",
    "plt.barh(x,y)\n",
    "\n",
    "ax.set_title('Gráfico de barras vertical')\n",
    "ax.set_xlabel('ano')\n",
    "ax.set_ylabel('qtd de habitantes')\n",
    "\n",
    "fig.savefig('images/grafico1_barras_horizontal.jpg')\n",
    "\n",
    "plt.show()"
   ]
  },
  {
   "cell_type": "markdown",
   "metadata": {},
   "source": [
    "- Estado civil"
   ]
  },
  {
   "cell_type": "code",
   "execution_count": 97,
   "metadata": {},
   "outputs": [],
   "source": [
    "# dados\n",
    "x = np.array(['casada(o)', 'solteira(o)','separada(o)', 'viúva(o)'])\n",
    "y = np.array([8, 7, 3, 2])"
   ]
  },
  {
   "cell_type": "code",
   "execution_count": 98,
   "metadata": {},
   "outputs": [
    {
     "data": {
      "image/png": "[encoded data removed]",
      "text/plain": [
       "<Figure size 432x288 with 1 Axes>"
      ]
     },
     "metadata": {
      "needs_background": "light"
     },
     "output_type": "display_data"
    }
   ],
   "source": [
    "fig, ax = plt.subplots(figsize=(6, 4))\n",
    "\n",
    "plt.bar(x,y)\n",
    "\n",
    "ax.set_title('Gráfico de barras vertical')\n",
    "ax.set_xlabel('estado cívil')\n",
    "ax.set_ylabel('números')\n",
    "\n",
    "fig.savefig('images/grafico2_barras_vertical.jpg')\n",
    "\n",
    "plt.show()"
   ]
  },
  {
   "cell_type": "code",
   "execution_count": 99,
   "metadata": {},
   "outputs": [
    {
     "data": {
      "image/png": "[encoded data removed]",
      "text/plain": [
       "<Figure size 432x288 with 1 Axes>"
      ]
     },
     "metadata": {
      "needs_background": "light"
     },
     "output_type": "display_data"
    }
   ],
   "source": [
    "fig, ax = plt.subplots(figsize=(6,4))  \n",
    "\n",
    "ax.set_title('Gráfico de barras horinzontal ')\n",
    "ax.set_xlabel('estado cívil')\n",
    "ax.set_ylabel('números')\n",
    "\n",
    "plt.barh(x,y)\n",
    "\n",
    "fig.savefig('images/grafico2_barras_horizontal.jpg')\n",
    "\n",
    "plt.show()"
   ]
  },
  {
   "cell_type": "markdown",
   "metadata": {},
   "source": [
    "### Histograma"
   ]
  },
  {
   "cell_type": "markdown",
   "metadata": {},
   "source": [
    "- Renda per capita média em cada estado, no Brasil, em 2000."
   ]
  },
  {
   "cell_type": "code",
   "execution_count": 100,
   "metadata": {},
   "outputs": [
    {
     "data": {
      "text/html": [
       "<div>\n",
       "<style scoped>\n",
       "    .dataframe tbody tr th:only-of-type {\n",
       "        vertical-align: middle;\n",
       "    }\n",
       "\n",
       "    .dataframe tbody tr th {\n",
       "        vertical-align: top;\n",
       "    }\n",
       "\n",
       "    .dataframe thead th {\n",
       "        text-align: right;\n",
       "    }\n",
       "</style>\n",
       "<table border=\"1\" class=\"dataframe\">\n",
       "  <thead>\n",
       "    <tr style=\"text-align: right;\">\n",
       "      <th></th>\n",
       "      <th>Estado</th>\n",
       "      <th>renda</th>\n",
       "    </tr>\n",
       "  </thead>\n",
       "  <tbody>\n",
       "    <tr>\n",
       "      <th>0</th>\n",
       "      <td>Distrito Federal</td>\n",
       "      <td>605.4</td>\n",
       "    </tr>\n",
       "    <tr>\n",
       "      <th>1</th>\n",
       "      <td>Santa Catarina</td>\n",
       "      <td>348.7</td>\n",
       "    </tr>\n",
       "    <tr>\n",
       "      <th>2</th>\n",
       "      <td>São Paulo</td>\n",
       "      <td>442.7</td>\n",
       "    </tr>\n",
       "    <tr>\n",
       "      <th>3</th>\n",
       "      <td>Rio Grande do Sul</td>\n",
       "      <td>357.7</td>\n",
       "    </tr>\n",
       "    <tr>\n",
       "      <th>4</th>\n",
       "      <td>Rio de Janeiro</td>\n",
       "      <td>413.9</td>\n",
       "    </tr>\n",
       "    <tr>\n",
       "      <th>5</th>\n",
       "      <td>Paraná</td>\n",
       "      <td>321.4</td>\n",
       "    </tr>\n",
       "    <tr>\n",
       "      <th>6</th>\n",
       "      <td>Mato Grosso do Sul</td>\n",
       "      <td>287.5</td>\n",
       "    </tr>\n",
       "    <tr>\n",
       "      <th>7</th>\n",
       "      <td>Goiás</td>\n",
       "      <td>286.0</td>\n",
       "    </tr>\n",
       "    <tr>\n",
       "      <th>8</th>\n",
       "      <td>Mato Grosso</td>\n",
       "      <td>288.1</td>\n",
       "    </tr>\n",
       "    <tr>\n",
       "      <th>9</th>\n",
       "      <td>Minas Gerais</td>\n",
       "      <td>276.6</td>\n",
       "    </tr>\n",
       "    <tr>\n",
       "      <th>10</th>\n",
       "      <td>Espírito Santo</td>\n",
       "      <td>289.6</td>\n",
       "    </tr>\n",
       "    <tr>\n",
       "      <th>11</th>\n",
       "      <td>Amapá</td>\n",
       "      <td>211.4</td>\n",
       "    </tr>\n",
       "    <tr>\n",
       "      <th>12</th>\n",
       "      <td>Roraima</td>\n",
       "      <td>232.5</td>\n",
       "    </tr>\n",
       "    <tr>\n",
       "      <th>13</th>\n",
       "      <td>Rondônia</td>\n",
       "      <td>233.8</td>\n",
       "    </tr>\n",
       "    <tr>\n",
       "      <th>14</th>\n",
       "      <td>Pará</td>\n",
       "      <td>168.6</td>\n",
       "    </tr>\n",
       "    <tr>\n",
       "      <th>15</th>\n",
       "      <td>Amazonas</td>\n",
       "      <td>173.9</td>\n",
       "    </tr>\n",
       "    <tr>\n",
       "      <th>16</th>\n",
       "      <td>Tocantins</td>\n",
       "      <td>172.6</td>\n",
       "    </tr>\n",
       "    <tr>\n",
       "      <th>17</th>\n",
       "      <td>Pernambuco</td>\n",
       "      <td>183.8</td>\n",
       "    </tr>\n",
       "    <tr>\n",
       "      <th>18</th>\n",
       "      <td>Rio Grande do Norte</td>\n",
       "      <td>176.2</td>\n",
       "    </tr>\n",
       "    <tr>\n",
       "      <th>19</th>\n",
       "      <td>Ceará</td>\n",
       "      <td>156.2</td>\n",
       "    </tr>\n",
       "    <tr>\n",
       "      <th>20</th>\n",
       "      <td>Acre</td>\n",
       "      <td>180.7</td>\n",
       "    </tr>\n",
       "    <tr>\n",
       "      <th>21</th>\n",
       "      <td>Bahia</td>\n",
       "      <td>160.2</td>\n",
       "    </tr>\n",
       "    <tr>\n",
       "      <th>22</th>\n",
       "      <td>Sergipe</td>\n",
       "      <td>163.5</td>\n",
       "    </tr>\n",
       "    <tr>\n",
       "      <th>23</th>\n",
       "      <td>Paraíba</td>\n",
       "      <td>150.2</td>\n",
       "    </tr>\n",
       "    <tr>\n",
       "      <th>24</th>\n",
       "      <td>Piauí</td>\n",
       "      <td>129.0</td>\n",
       "    </tr>\n",
       "    <tr>\n",
       "      <th>25</th>\n",
       "      <td>Alagoas</td>\n",
       "      <td>139.9</td>\n",
       "    </tr>\n",
       "    <tr>\n",
       "      <th>26</th>\n",
       "      <td>Maranhão</td>\n",
       "      <td>110.4</td>\n",
       "    </tr>\n",
       "  </tbody>\n",
       "</table>\n",
       "</div>"
      ],
      "text/plain": [
       "                 Estado  renda\n",
       "0      Distrito Federal  605.4\n",
       "1        Santa Catarina  348.7\n",
       "2             São Paulo  442.7\n",
       "3     Rio Grande do Sul  357.7\n",
       "4        Rio de Janeiro  413.9\n",
       "5                Paraná  321.4\n",
       "6    Mato Grosso do Sul  287.5\n",
       "7                 Goiás  286.0\n",
       "8           Mato Grosso  288.1\n",
       "9          Minas Gerais  276.6\n",
       "10       Espírito Santo  289.6\n",
       "11                Amapá  211.4\n",
       "12              Roraima  232.5\n",
       "13             Rondônia  233.8\n",
       "14                 Pará  168.6\n",
       "15             Amazonas  173.9\n",
       "16            Tocantins  172.6\n",
       "17           Pernambuco  183.8\n",
       "18  Rio Grande do Norte  176.2\n",
       "19                Ceará  156.2\n",
       "20                 Acre  180.7\n",
       "21                Bahia  160.2\n",
       "22              Sergipe  163.5\n",
       "23              Paraíba  150.2\n",
       "24                Piauí  129.0\n",
       "25              Alagoas  139.9\n",
       "26             Maranhão  110.4"
      ]
     },
     "execution_count": 100,
     "metadata": {},
     "output_type": "execute_result"
    }
   ],
   "source": [
    "# lendo os dados\n",
    "df = pd.read_csv(\"../data/descritiva/renda_per_capita_br_2002.csv\",sep=';')\n",
    "df"
   ]
  },
  {
   "cell_type": "code",
   "execution_count": 101,
   "metadata": {},
   "outputs": [],
   "source": [
    "# define os intervalos de classe\n",
    "bins = [100, 200, 300, 400, 500, 600, 700]"
   ]
  },
  {
   "cell_type": "code",
   "execution_count": 102,
   "metadata": {},
   "outputs": [
    {
     "data": {
      "text/html": [
       "<div>\n",
       "<style scoped>\n",
       "    .dataframe tbody tr th:only-of-type {\n",
       "        vertical-align: middle;\n",
       "    }\n",
       "\n",
       "    .dataframe tbody tr th {\n",
       "        vertical-align: top;\n",
       "    }\n",
       "\n",
       "    .dataframe thead th {\n",
       "        text-align: right;\n",
       "    }\n",
       "</style>\n",
       "<table border=\"1\" class=\"dataframe\">\n",
       "  <thead>\n",
       "    <tr style=\"text-align: right;\">\n",
       "      <th></th>\n",
       "      <th>Estado</th>\n",
       "      <th>renda</th>\n",
       "    </tr>\n",
       "  </thead>\n",
       "  <tbody>\n",
       "    <tr>\n",
       "      <th>0</th>\n",
       "      <td>Distrito Federal</td>\n",
       "      <td>(600.0, 700.0]</td>\n",
       "    </tr>\n",
       "    <tr>\n",
       "      <th>1</th>\n",
       "      <td>Santa Catarina</td>\n",
       "      <td>(300.0, 400.0]</td>\n",
       "    </tr>\n",
       "    <tr>\n",
       "      <th>2</th>\n",
       "      <td>São Paulo</td>\n",
       "      <td>(400.0, 500.0]</td>\n",
       "    </tr>\n",
       "    <tr>\n",
       "      <th>3</th>\n",
       "      <td>Rio Grande do Sul</td>\n",
       "      <td>(300.0, 400.0]</td>\n",
       "    </tr>\n",
       "    <tr>\n",
       "      <th>4</th>\n",
       "      <td>Rio de Janeiro</td>\n",
       "      <td>(400.0, 500.0]</td>\n",
       "    </tr>\n",
       "    <tr>\n",
       "      <th>5</th>\n",
       "      <td>Paraná</td>\n",
       "      <td>(300.0, 400.0]</td>\n",
       "    </tr>\n",
       "    <tr>\n",
       "      <th>6</th>\n",
       "      <td>Mato Grosso do Sul</td>\n",
       "      <td>(200.0, 300.0]</td>\n",
       "    </tr>\n",
       "    <tr>\n",
       "      <th>7</th>\n",
       "      <td>Goiás</td>\n",
       "      <td>(200.0, 300.0]</td>\n",
       "    </tr>\n",
       "    <tr>\n",
       "      <th>8</th>\n",
       "      <td>Mato Grosso</td>\n",
       "      <td>(200.0, 300.0]</td>\n",
       "    </tr>\n",
       "    <tr>\n",
       "      <th>9</th>\n",
       "      <td>Minas Gerais</td>\n",
       "      <td>(200.0, 300.0]</td>\n",
       "    </tr>\n",
       "    <tr>\n",
       "      <th>10</th>\n",
       "      <td>Espírito Santo</td>\n",
       "      <td>(200.0, 300.0]</td>\n",
       "    </tr>\n",
       "    <tr>\n",
       "      <th>11</th>\n",
       "      <td>Amapá</td>\n",
       "      <td>(200.0, 300.0]</td>\n",
       "    </tr>\n",
       "    <tr>\n",
       "      <th>12</th>\n",
       "      <td>Roraima</td>\n",
       "      <td>(200.0, 300.0]</td>\n",
       "    </tr>\n",
       "    <tr>\n",
       "      <th>13</th>\n",
       "      <td>Rondônia</td>\n",
       "      <td>(200.0, 300.0]</td>\n",
       "    </tr>\n",
       "    <tr>\n",
       "      <th>14</th>\n",
       "      <td>Pará</td>\n",
       "      <td>(99.999, 200.0]</td>\n",
       "    </tr>\n",
       "    <tr>\n",
       "      <th>15</th>\n",
       "      <td>Amazonas</td>\n",
       "      <td>(99.999, 200.0]</td>\n",
       "    </tr>\n",
       "    <tr>\n",
       "      <th>16</th>\n",
       "      <td>Tocantins</td>\n",
       "      <td>(99.999, 200.0]</td>\n",
       "    </tr>\n",
       "    <tr>\n",
       "      <th>17</th>\n",
       "      <td>Pernambuco</td>\n",
       "      <td>(99.999, 200.0]</td>\n",
       "    </tr>\n",
       "    <tr>\n",
       "      <th>18</th>\n",
       "      <td>Rio Grande do Norte</td>\n",
       "      <td>(99.999, 200.0]</td>\n",
       "    </tr>\n",
       "    <tr>\n",
       "      <th>19</th>\n",
       "      <td>Ceará</td>\n",
       "      <td>(99.999, 200.0]</td>\n",
       "    </tr>\n",
       "    <tr>\n",
       "      <th>20</th>\n",
       "      <td>Acre</td>\n",
       "      <td>(99.999, 200.0]</td>\n",
       "    </tr>\n",
       "    <tr>\n",
       "      <th>21</th>\n",
       "      <td>Bahia</td>\n",
       "      <td>(99.999, 200.0]</td>\n",
       "    </tr>\n",
       "    <tr>\n",
       "      <th>22</th>\n",
       "      <td>Sergipe</td>\n",
       "      <td>(99.999, 200.0]</td>\n",
       "    </tr>\n",
       "    <tr>\n",
       "      <th>23</th>\n",
       "      <td>Paraíba</td>\n",
       "      <td>(99.999, 200.0]</td>\n",
       "    </tr>\n",
       "    <tr>\n",
       "      <th>24</th>\n",
       "      <td>Piauí</td>\n",
       "      <td>(99.999, 200.0]</td>\n",
       "    </tr>\n",
       "    <tr>\n",
       "      <th>25</th>\n",
       "      <td>Alagoas</td>\n",
       "      <td>(99.999, 200.0]</td>\n",
       "    </tr>\n",
       "    <tr>\n",
       "      <th>26</th>\n",
       "      <td>Maranhão</td>\n",
       "      <td>(99.999, 200.0]</td>\n",
       "    </tr>\n",
       "  </tbody>\n",
       "</table>\n",
       "</div>"
      ],
      "text/plain": [
       "                 Estado            renda\n",
       "0      Distrito Federal   (600.0, 700.0]\n",
       "1        Santa Catarina   (300.0, 400.0]\n",
       "2             São Paulo   (400.0, 500.0]\n",
       "3     Rio Grande do Sul   (300.0, 400.0]\n",
       "4        Rio de Janeiro   (400.0, 500.0]\n",
       "5                Paraná   (300.0, 400.0]\n",
       "6    Mato Grosso do Sul   (200.0, 300.0]\n",
       "7                 Goiás   (200.0, 300.0]\n",
       "8           Mato Grosso   (200.0, 300.0]\n",
       "9          Minas Gerais   (200.0, 300.0]\n",
       "10       Espírito Santo   (200.0, 300.0]\n",
       "11                Amapá   (200.0, 300.0]\n",
       "12              Roraima   (200.0, 300.0]\n",
       "13             Rondônia   (200.0, 300.0]\n",
       "14                 Pará  (99.999, 200.0]\n",
       "15             Amazonas  (99.999, 200.0]\n",
       "16            Tocantins  (99.999, 200.0]\n",
       "17           Pernambuco  (99.999, 200.0]\n",
       "18  Rio Grande do Norte  (99.999, 200.0]\n",
       "19                Ceará  (99.999, 200.0]\n",
       "20                 Acre  (99.999, 200.0]\n",
       "21                Bahia  (99.999, 200.0]\n",
       "22              Sergipe  (99.999, 200.0]\n",
       "23              Paraíba  (99.999, 200.0]\n",
       "24                Piauí  (99.999, 200.0]\n",
       "25              Alagoas  (99.999, 200.0]\n",
       "26             Maranhão  (99.999, 200.0]"
      ]
     },
     "execution_count": 102,
     "metadata": {},
     "output_type": "execute_result"
    }
   ],
   "source": [
    "# cria a coluna de intervalos de classe\n",
    "df['renda'] = pd.cut(df['renda'], bins, include_lowest=True)\n",
    "df"
   ]
  },
  {
   "cell_type": "code",
   "execution_count": 103,
   "metadata": {},
   "outputs": [
    {
     "data": {
      "text/plain": [
       "renda\n",
       "(99.999, 200.0]    13\n",
       "(200.0, 300.0]      8\n",
       "(300.0, 400.0]      3\n",
       "(400.0, 500.0]      2\n",
       "(500.0, 600.0]      0\n",
       "(600.0, 700.0]      1\n",
       "Name: count, dtype: int64"
      ]
     },
     "execution_count": 103,
     "metadata": {},
     "output_type": "execute_result"
    }
   ],
   "source": [
    "# cria a tabela de distribuição de frequências absoluta\n",
    "serie = df['renda'].value_counts(sort=False)\n",
    "serie\n"
   ]
  },
  {
   "cell_type": "code",
   "execution_count": 104,
   "metadata": {},
   "outputs": [
    {
     "data": {
      "text/plain": [
       "renda\n",
       "(99.999, 200.0]    13\n",
       "(200.0, 300.0]      8\n",
       "(300.0, 400.0]      3\n",
       "(400.0, 500.0]      2\n",
       "(500.0, 600.0]      0\n",
       "(600.0, 700.0]      1\n",
       "Name: count, dtype: int64"
      ]
     },
     "execution_count": 104,
     "metadata": {},
     "output_type": "execute_result"
    }
   ],
   "source": [
    "# organiza os intervalos de classe em ordem crescente\n",
    "serie = serie.sort_index()\n",
    "serie"
   ]
  },
  {
   "cell_type": "code",
   "execution_count": 105,
   "metadata": {},
   "outputs": [
    {
     "data": {
      "text/html": [
       "<div>\n",
       "<style scoped>\n",
       "    .dataframe tbody tr th:only-of-type {\n",
       "        vertical-align: middle;\n",
       "    }\n",
       "\n",
       "    .dataframe tbody tr th {\n",
       "        vertical-align: top;\n",
       "    }\n",
       "\n",
       "    .dataframe thead th {\n",
       "        text-align: right;\n",
       "    }\n",
       "</style>\n",
       "<table border=\"1\" class=\"dataframe\">\n",
       "  <thead>\n",
       "    <tr style=\"text-align: right;\">\n",
       "      <th></th>\n",
       "      <th>classes</th>\n",
       "      <th>números</th>\n",
       "    </tr>\n",
       "  </thead>\n",
       "  <tbody>\n",
       "    <tr>\n",
       "      <th>0</th>\n",
       "      <td>(99.999, 200.0]</td>\n",
       "      <td>13</td>\n",
       "    </tr>\n",
       "    <tr>\n",
       "      <th>1</th>\n",
       "      <td>(200.0, 300.0]</td>\n",
       "      <td>8</td>\n",
       "    </tr>\n",
       "    <tr>\n",
       "      <th>2</th>\n",
       "      <td>(300.0, 400.0]</td>\n",
       "      <td>3</td>\n",
       "    </tr>\n",
       "    <tr>\n",
       "      <th>3</th>\n",
       "      <td>(400.0, 500.0]</td>\n",
       "      <td>2</td>\n",
       "    </tr>\n",
       "    <tr>\n",
       "      <th>4</th>\n",
       "      <td>(500.0, 600.0]</td>\n",
       "      <td>0</td>\n",
       "    </tr>\n",
       "    <tr>\n",
       "      <th>5</th>\n",
       "      <td>(600.0, 700.0]</td>\n",
       "      <td>1</td>\n",
       "    </tr>\n",
       "  </tbody>\n",
       "</table>\n",
       "</div>"
      ],
      "text/plain": [
       "           classes  números\n",
       "0  (99.999, 200.0]       13\n",
       "1   (200.0, 300.0]        8\n",
       "2   (300.0, 400.0]        3\n",
       "3   (400.0, 500.0]        2\n",
       "4   (500.0, 600.0]        0\n",
       "5   (600.0, 700.0]        1"
      ]
     },
     "execution_count": 105,
     "metadata": {},
     "output_type": "execute_result"
    }
   ],
   "source": [
    "#serie\n",
    "df = pd.DataFrame({'classes':serie.index, 'números':serie.values})\n",
    "df"
   ]
  },
  {
   "cell_type": "code",
   "execution_count": 106,
   "metadata": {},
   "outputs": [],
   "source": [
    "x = ['classe 1' , 'classe 2', 'classe 3', 'classe 4', 'classe 5', 'classe 6']\n",
    "y = list(df['números'])"
   ]
  },
  {
   "cell_type": "code",
   "execution_count": 107,
   "metadata": {},
   "outputs": [
    {
     "data": {
      "image/png": "[encoded data removed]",
      "text/plain": [
       "<Figure size 432x288 with 1 Axes>"
      ]
     },
     "metadata": {
      "needs_background": "light"
     },
     "output_type": "display_data"
    }
   ],
   "source": [
    "fig, ax = plt.subplots(figsize=(6, 4))\n",
    "\n",
    "plt.bar(x,y)\n",
    "\n",
    "ax.set_title('Gráfico de barras vertical')\n",
    "ax.set_xlabel('renda per capita (em reais)')\n",
    "ax.set_ylabel('número de estados')\n",
    "\n",
    "fig.savefig('images/histograma1.jpg')\n",
    "\n",
    "plt.show()"
   ]
  },
  {
   "cell_type": "markdown",
   "metadata": {},
   "source": [
    "- Estado cívil"
   ]
  },
  {
   "cell_type": "code",
   "execution_count": 108,
   "metadata": {},
   "outputs": [],
   "source": [
    "# dados\n",
    "x = [\n",
    "    'casada(o)', \n",
    "    'solteira(o)', \n",
    "    'viúva(o)', \n",
    "    'separada(o)', \n",
    "    'solteira(o)', \n",
    "    'solteira(o)', \n",
    "    'solteira(o)', \n",
    "    'casada(o)', \n",
    "    'separada(o)', \n",
    "    'casada(o)', \n",
    "    'solteira(o)', \n",
    "    'casada(o)', \n",
    "    'casada(o)', \n",
    "    'casada(o)', \n",
    "    'solteira(o)', \n",
    "    'viúva(o)', \n",
    "    'solteira(o)', \n",
    "    'casada(o)', \n",
    "    'separada(o)', \n",
    "    'casada(o)' \n",
    "]"
   ]
  },
  {
   "cell_type": "code",
   "execution_count": 109,
   "metadata": {},
   "outputs": [
    {
     "data": {
      "image/png": "[encoded data removed]",
      "text/plain": [
       "<Figure size 432x288 with 1 Axes>"
      ]
     },
     "metadata": {
      "needs_background": "light"
     },
     "output_type": "display_data"
    }
   ],
   "source": [
    "fig, ax = plt.subplots(figsize=(6,4)) \n",
    "\n",
    "plt.hist(x)\n",
    "\n",
    "ax.set_title('Histrograma - Estado cívil ')\n",
    "ax.set_xlabel('estado cívil')\n",
    "ax.set_ylabel('números')\n",
    "\n",
    "fig.savefig('images/histograma2.jpg')\n",
    "\n",
    "plt.show() "
   ]
  },
  {
   "cell_type": "markdown",
   "metadata": {},
   "source": [
    "### Gráfico de linhas"
   ]
  },
  {
   "cell_type": "markdown",
   "metadata": {},
   "source": [
    "-  Taxa de desemprego, no Brasil, em 2012"
   ]
  },
  {
   "cell_type": "code",
   "execution_count": 110,
   "metadata": {},
   "outputs": [],
   "source": [
    "# taxa de desemprego no Brasil em 2012\n",
    "x = [\"jan\", \"fev\", \"mar\", \"abr\", \"mai\", \"jun\", \"jul\", \"ago\", \"set\", \"out\", \"nov\", \"dez\"]\n",
    "y = [5.5, 5.7, 6.2, 6.0, 5.8, 5.9, 5.4, 5.3, 5.4, 5.3, 4.9,\t4.6]"
   ]
  },
  {
   "cell_type": "code",
   "execution_count": 111,
   "metadata": {},
   "outputs": [
    {
     "data": {
      "image/png": "[encoded data removed]",
      "text/plain": [
       "<Figure size 432x288 with 1 Axes>"
      ]
     },
     "metadata": {
      "needs_background": "light"
     },
     "output_type": "display_data"
    }
   ],
   "source": [
    "fig, ax = plt.subplots(figsize=(6,4))  \n",
    "\n",
    "plt.plot(x,y)\n",
    "\n",
    "ax.set_title('Gráfico de linhas - taxa de desemprego Brasil em 2012')\n",
    "ax.set_xlabel('meses')\n",
    "ax.set_ylabel('percentual')\n",
    "\n",
    "fig.savefig('images/grafico_linhas.jpg')\n",
    "\n",
    "plt.show()"
   ]
  },
  {
   "cell_type": "code",
   "execution_count": null,
   "metadata": {},
   "outputs": [],
   "source": []
  }
 ],
 "metadata": {
  "kernelspec": {
   "display_name": "Python 3",
   "language": "python",
   "name": "python3"
  },
  "language_info": {
   "codemirror_mode": {
    "name": "ipython",
    "version": 3
   },
   "file_extension": ".py",
   "mimetype": "text/x-python",
   "name": "python",
   "nbconvert_exporter": "python",
   "pygments_lexer": "ipython3",
   "version": "3.10.12"
  }
 },
 "nbformat": 4,
 "nbformat_minor": 2
}

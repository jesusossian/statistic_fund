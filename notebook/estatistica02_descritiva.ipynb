{
 "cells": [
  {
   "cell_type": "markdown",
   "metadata": {},
   "source": [
    "# Gráficos"
   ]
  },
  {
   "cell_type": "markdown",
   "metadata": {},
   "source": [
    "Tipos de representação gráficas:\n",
    "1. o gráfico de setores (ou pizza)\n",
    "2. o gráfico de barras \n",
    "3. o histograma\n",
    "4. o gráficos de linhas"
   ]
  },
  {
   "cell_type": "code",
   "execution_count": 1,
   "metadata": {},
   "outputs": [],
   "source": [
    "#import de bibliotecas\n",
    "\n",
    "import matplotlib as mpl\n",
    "import matplotlib.pyplot as plt \n",
    "\n",
    "import numpy as np\n",
    "\n",
    "import pandas as pd"
   ]
  },
  {
   "cell_type": "markdown",
   "metadata": {},
   "source": [
    "## Gráfico de setores\n",
    "\n",
    "O gráfico a seguir informa a distribuição da população de um país que vive na zona urbana, e na zona rural."
   ]
  },
  {
   "cell_type": "markdown",
   "metadata": {},
   "source": [
    "- População urbana $\\times$ população rural"
   ]
  },
  {
   "cell_type": "code",
   "execution_count": 2,
   "metadata": {},
   "outputs": [
    {
     "data": {
      "text/html": [
       "<div>\n",
       "<style scoped>\n",
       "    .dataframe tbody tr th:only-of-type {\n",
       "        vertical-align: middle;\n",
       "    }\n",
       "\n",
       "    .dataframe tbody tr th {\n",
       "        vertical-align: top;\n",
       "    }\n",
       "\n",
       "    .dataframe thead th {\n",
       "        text-align: right;\n",
       "    }\n",
       "</style>\n",
       "<table border=\"1\" class=\"dataframe\">\n",
       "  <thead>\n",
       "    <tr style=\"text-align: right;\">\n",
       "      <th></th>\n",
       "      <th>população</th>\n",
       "      <th>percentual</th>\n",
       "    </tr>\n",
       "  </thead>\n",
       "  <tbody>\n",
       "    <tr>\n",
       "      <th>0</th>\n",
       "      <td>urbana</td>\n",
       "      <td>84</td>\n",
       "    </tr>\n",
       "    <tr>\n",
       "      <th>1</th>\n",
       "      <td>rural</td>\n",
       "      <td>16</td>\n",
       "    </tr>\n",
       "  </tbody>\n",
       "</table>\n",
       "</div>"
      ],
      "text/plain": [
       "  população  percentual\n",
       "0    urbana          84\n",
       "1     rural          16"
      ]
     },
     "execution_count": 2,
     "metadata": {},
     "output_type": "execute_result"
    }
   ],
   "source": [
    "# data frame\n",
    "data = {\n",
    "  \"população\": [\"urbana\",\"rural\"],\n",
    "  \"percentual\": [84, 16]\n",
    "}\n",
    "\n",
    "#load data into a DataFrame object:\n",
    "df = pd.DataFrame(data)\n",
    "\n",
    "df"
   ]
  },
  {
   "cell_type": "code",
   "execution_count": 3,
   "metadata": {},
   "outputs": [
    {
     "data": {
      "text/html": [
       "<div>\n",
       "<style scoped>\n",
       "    .dataframe tbody tr th:only-of-type {\n",
       "        vertical-align: middle;\n",
       "    }\n",
       "\n",
       "    .dataframe tbody tr th {\n",
       "        vertical-align: top;\n",
       "    }\n",
       "\n",
       "    .dataframe thead th {\n",
       "        text-align: right;\n",
       "    }\n",
       "</style>\n",
       "<table border=\"1\" class=\"dataframe\">\n",
       "  <thead>\n",
       "    <tr style=\"text-align: right;\">\n",
       "      <th></th>\n",
       "      <th>classes</th>\n",
       "      <th>n_i</th>\n",
       "      <th>f_i</th>\n",
       "      <th>%_i</th>\n",
       "    </tr>\n",
       "  </thead>\n",
       "  <tbody>\n",
       "    <tr>\n",
       "      <th>0</th>\n",
       "      <td>casada(o)</td>\n",
       "      <td>8</td>\n",
       "      <td>0.40</td>\n",
       "      <td>40</td>\n",
       "    </tr>\n",
       "    <tr>\n",
       "      <th>1</th>\n",
       "      <td>solteira(o)</td>\n",
       "      <td>7</td>\n",
       "      <td>0.35</td>\n",
       "      <td>35</td>\n",
       "    </tr>\n",
       "    <tr>\n",
       "      <th>2</th>\n",
       "      <td>separada(o)</td>\n",
       "      <td>3</td>\n",
       "      <td>0.15</td>\n",
       "      <td>15</td>\n",
       "    </tr>\n",
       "    <tr>\n",
       "      <th>3</th>\n",
       "      <td>viúva(o)</td>\n",
       "      <td>2</td>\n",
       "      <td>0.10</td>\n",
       "      <td>10</td>\n",
       "    </tr>\n",
       "    <tr>\n",
       "      <th>4</th>\n",
       "      <td>total</td>\n",
       "      <td>20</td>\n",
       "      <td>1.00</td>\n",
       "      <td>100</td>\n",
       "    </tr>\n",
       "  </tbody>\n",
       "</table>\n",
       "</div>"
      ],
      "text/plain": [
       "       classes  n_i   f_i  %_i\n",
       "0    casada(o)    8  0.40   40\n",
       "1  solteira(o)    7  0.35   35\n",
       "2  separada(o)    3  0.15   15\n",
       "3     viúva(o)    2  0.10   10\n",
       "4        total   20  1.00  100"
      ]
     },
     "execution_count": 3,
     "metadata": {},
     "output_type": "execute_result"
    }
   ],
   "source": [
    "# data frame\n",
    "data = {\n",
    "  \"classes\": [\"casada(o)\", \"solteira(o)\", \"separada(o)\", \"viúva(o)\", \"total\"],\n",
    "  \"n_i\": [8, 7, 3, 2, 20],\n",
    "  \"f_i\": [0.40, 0.35, 0.15, 0.10, 1.00],\n",
    "  \"%_i\": [40, 35, 15, 10, 100]\n",
    "}\n",
    "\n",
    "#load data into a DataFrame object:\n",
    "df_est_civil = pd.DataFrame(data)\n",
    "\n",
    "df_est_civil"
   ]
  },
  {
   "cell_type": "code",
   "execution_count": 4,
   "metadata": {},
   "outputs": [],
   "source": [
    "# dados\n",
    "x = np.array(['Urbana', 'Rural'])\n",
    "y = np.array([84, 16])"
   ]
  },
  {
   "cell_type": "code",
   "execution_count": 5,
   "metadata": {},
   "outputs": [
    {
     "data": {
      "image/png": "[encoded data removed]",
      "text/plain": [
       "<Figure size 432x432 with 1 Axes>"
      ]
     },
     "metadata": {},
     "output_type": "display_data"
    }
   ],
   "source": [
    "# criando uma area plotavel\n",
    "fig, ax = plt.subplots(figsize=(6,6))  \n",
    "\n",
    "ax.set_title('Gráfico de setores - população ')\n",
    "\n",
    "ax.pie(y, labels=x, autopct='%1.1f%%')    \n",
    "# o argumento `autopct` mostra a formatacao do texto com as proporcoes\n",
    "\n",
    "#ax.axis('equal')\n",
    "\n",
    "#plt.pie(y, labels=x)\n",
    "\n",
    "#fig.savefig('images/grafico_setores.jpg')\n",
    "\n",
    "plt.show()"
   ]
  },
  {
   "cell_type": "code",
   "execution_count": 6,
   "metadata": {},
   "outputs": [
    {
     "data": {
      "image/png": "[encoded data removed]",
      "text/plain": [
       "<Figure size 432x432 with 1 Axes>"
      ]
     },
     "metadata": {},
     "output_type": "display_data"
    }
   ],
   "source": [
    "# criando uma area plotavel\n",
    "fig, ax = plt.subplots(figsize=(6,6))  \n",
    "\n",
    "ax.set_title('Gráfico de setores: Frequentadores do parque')\n",
    "\n",
    "x = list(df_est_civil[\"classes\"])\n",
    "y = list(df_est_civil[\"%_i\"])\n",
    "#x[0:4]\n",
    "ax.pie(y[0:4], labels=x[0:4], autopct='%1.1f%%')    \n",
    "\n",
    "#plt.pie(y, labels=x)\n",
    "\n",
    "fig.savefig('images/graf1_setores_est_civil.jpg')\n",
    "\n",
    "plt.show()"
   ]
  },
  {
   "cell_type": "markdown",
   "metadata": {},
   "source": [
    "## Gráfico de barras"
   ]
  },
  {
   "cell_type": "markdown",
   "metadata": {},
   "source": [
    "A tabela a seguir traz os paises, em 2012, onde há um maior número de telefones (fixos e celulares, somados),  em milhões, e as quantidades correspondentes a cada um."
   ]
  },
  {
   "cell_type": "code",
   "execution_count": 7,
   "metadata": {},
   "outputs": [
    {
     "data": {
      "text/html": [
       "<div>\n",
       "<style scoped>\n",
       "    .dataframe tbody tr th:only-of-type {\n",
       "        vertical-align: middle;\n",
       "    }\n",
       "\n",
       "    .dataframe tbody tr th {\n",
       "        vertical-align: top;\n",
       "    }\n",
       "\n",
       "    .dataframe thead th {\n",
       "        text-align: right;\n",
       "    }\n",
       "</style>\n",
       "<table border=\"1\" class=\"dataframe\">\n",
       "  <thead>\n",
       "    <tr style=\"text-align: right;\">\n",
       "      <th></th>\n",
       "      <th>pais</th>\n",
       "      <th>qtd de telefones</th>\n",
       "    </tr>\n",
       "  </thead>\n",
       "  <tbody>\n",
       "    <tr>\n",
       "      <th>0</th>\n",
       "      <td>china</td>\n",
       "      <td>421.0</td>\n",
       "    </tr>\n",
       "    <tr>\n",
       "      <th>1</th>\n",
       "      <td>eua</td>\n",
       "      <td>153.6</td>\n",
       "    </tr>\n",
       "    <tr>\n",
       "      <th>2</th>\n",
       "      <td>japão</td>\n",
       "      <td>153.6</td>\n",
       "    </tr>\n",
       "    <tr>\n",
       "      <th>3</th>\n",
       "      <td>alemanha</td>\n",
       "      <td>112.9</td>\n",
       "    </tr>\n",
       "    <tr>\n",
       "      <th>4</th>\n",
       "      <td>reino unido</td>\n",
       "      <td>85.2</td>\n",
       "    </tr>\n",
       "    <tr>\n",
       "      <th>5</th>\n",
       "      <td>itália</td>\n",
       "      <td>79.7</td>\n",
       "    </tr>\n",
       "    <tr>\n",
       "      <th>6</th>\n",
       "      <td>brasil</td>\n",
       "      <td>73.7</td>\n",
       "    </tr>\n",
       "    <tr>\n",
       "      <th>7</th>\n",
       "      <td>frança</td>\n",
       "      <td>72.5</td>\n",
       "    </tr>\n",
       "    <tr>\n",
       "      <th>8</th>\n",
       "      <td>coreia do sul</td>\n",
       "      <td>55.6</td>\n",
       "    </tr>\n",
       "    <tr>\n",
       "      <th>9</th>\n",
       "      <td>india</td>\n",
       "      <td>54.1</td>\n",
       "    </tr>\n",
       "  </tbody>\n",
       "</table>\n",
       "</div>"
      ],
      "text/plain": [
       "            pais  qtd de telefones\n",
       "0          china             421.0\n",
       "1            eua             153.6\n",
       "2          japão             153.6\n",
       "3       alemanha             112.9\n",
       "4    reino unido              85.2\n",
       "5         itália              79.7\n",
       "6         brasil              73.7\n",
       "7         frança              72.5\n",
       "8  coreia do sul              55.6\n",
       "9          india              54.1"
      ]
     },
     "execution_count": 7,
     "metadata": {},
     "output_type": "execute_result"
    }
   ],
   "source": [
    "# dataframe\n",
    "\n",
    "data = {\n",
    "  \"pais\": [\"china\",\"eua\",\"japão\",\"alemanha\", \"reino unido\", \"itália\", \"brasil\", \"frança\", \"coreia do sul\", \"india\"],\n",
    "  \"qtd de telefones\": [421.0, 153.6, 153.6, 112.9, 85.2, 79.7, 73.7, 72.5, 55.6, 54.1]\n",
    "}\n",
    "\n",
    "#load data into a DataFrame object:\n",
    "df = pd.DataFrame(data)\n",
    "\n",
    "df"
   ]
  },
  {
   "cell_type": "code",
   "execution_count": 8,
   "metadata": {},
   "outputs": [
    {
     "data": {
      "image/png": "[encoded data removed]",
      "text/plain": [
       "<Figure size 864x432 with 1 Axes>"
      ]
     },
     "metadata": {
      "needs_background": "light"
     },
     "output_type": "display_data"
    }
   ],
   "source": [
    "fig, ax = plt.subplots(figsize=(12, 6))\n",
    "\n",
    "x = list(df[\"pais\"])\n",
    "y = list(df[\"qtd de telefones\"])\n",
    "\n",
    "plt.barh(x,y)\n",
    "\n",
    "ax.set_title('Gráfico de barras horizontal')\n",
    "ax.set_xlabel('qtd de telefones')\n",
    "ax.set_ylabel('paises')\n",
    "\n",
    "#fig.savefig('images/grafico1_barras_horizontal.jpg')\n",
    "\n",
    "plt.show()"
   ]
  },
  {
   "cell_type": "markdown",
   "metadata": {},
   "source": [
    "A seguir temos uma tabela com o crescimento populacional brasileiro (em milhões) de 1900 a 2010."
   ]
  },
  {
   "cell_type": "code",
   "execution_count": 9,
   "metadata": {},
   "outputs": [
    {
     "data": {
      "text/html": [
       "<div>\n",
       "<style scoped>\n",
       "    .dataframe tbody tr th:only-of-type {\n",
       "        vertical-align: middle;\n",
       "    }\n",
       "\n",
       "    .dataframe tbody tr th {\n",
       "        vertical-align: top;\n",
       "    }\n",
       "\n",
       "    .dataframe thead th {\n",
       "        text-align: right;\n",
       "    }\n",
       "</style>\n",
       "<table border=\"1\" class=\"dataframe\">\n",
       "  <thead>\n",
       "    <tr style=\"text-align: right;\">\n",
       "      <th></th>\n",
       "      <th>ano</th>\n",
       "      <th>qtd de habitantes</th>\n",
       "    </tr>\n",
       "  </thead>\n",
       "  <tbody>\n",
       "    <tr>\n",
       "      <th>0</th>\n",
       "      <td>1900</td>\n",
       "      <td>17.4</td>\n",
       "    </tr>\n",
       "    <tr>\n",
       "      <th>1</th>\n",
       "      <td>1920</td>\n",
       "      <td>30.6</td>\n",
       "    </tr>\n",
       "    <tr>\n",
       "      <th>2</th>\n",
       "      <td>1940</td>\n",
       "      <td>41.2</td>\n",
       "    </tr>\n",
       "    <tr>\n",
       "      <th>3</th>\n",
       "      <td>1960</td>\n",
       "      <td>51.9</td>\n",
       "    </tr>\n",
       "    <tr>\n",
       "      <th>4</th>\n",
       "      <td>1960</td>\n",
       "      <td>70.0</td>\n",
       "    </tr>\n",
       "    <tr>\n",
       "      <th>5</th>\n",
       "      <td>1970</td>\n",
       "      <td>93.1</td>\n",
       "    </tr>\n",
       "    <tr>\n",
       "      <th>6</th>\n",
       "      <td>1980</td>\n",
       "      <td>119.0</td>\n",
       "    </tr>\n",
       "    <tr>\n",
       "      <th>7</th>\n",
       "      <td>1990</td>\n",
       "      <td>146.8</td>\n",
       "    </tr>\n",
       "    <tr>\n",
       "      <th>8</th>\n",
       "      <td>2000</td>\n",
       "      <td>169.8</td>\n",
       "    </tr>\n",
       "    <tr>\n",
       "      <th>9</th>\n",
       "      <td>2010</td>\n",
       "      <td>190.7</td>\n",
       "    </tr>\n",
       "  </tbody>\n",
       "</table>\n",
       "</div>"
      ],
      "text/plain": [
       "    ano  qtd de habitantes\n",
       "0  1900               17.4\n",
       "1  1920               30.6\n",
       "2  1940               41.2\n",
       "3  1960               51.9\n",
       "4  1960               70.0\n",
       "5  1970               93.1\n",
       "6  1980              119.0\n",
       "7  1990              146.8\n",
       "8  2000              169.8\n",
       "9  2010              190.7"
      ]
     },
     "execution_count": 9,
     "metadata": {},
     "output_type": "execute_result"
    }
   ],
   "source": [
    "# dataframe\n",
    "\n",
    "data = {\n",
    "  \"ano\": [1900, 1920, 1940, 1960, 1960, 1970, 1980, 1990, 2000, 2010],\n",
    "  \"qtd de habitantes\": [17.4, 30.6, 41.2, 51.9, 70.0, 93.1, 119.0, 146.8, 169.8, 190.7]\n",
    "}\n",
    "\n",
    "#load data into a DataFrame object:\n",
    "df = pd.DataFrame(data)\n",
    "\n",
    "df"
   ]
  },
  {
   "cell_type": "markdown",
   "metadata": {},
   "source": [
    "O gráfico a seguir representa o aumento da população brasileira de 1900 a 2010 de acordo com a tabela anterior.\n",
    "\n",
    "Cada ano corresponde a uma coluna cujo comprimento é proporcional ao número de habitantes. Esse tipo de gráfico é chamado de gráfico de barras verticais."
   ]
  },
  {
   "cell_type": "code",
   "execution_count": 10,
   "metadata": {},
   "outputs": [
    {
     "data": {
      "image/png": "[encoded data removed]",
      "text/plain": [
       "<Figure size 864x432 with 1 Axes>"
      ]
     },
     "metadata": {
      "needs_background": "light"
     },
     "output_type": "display_data"
    }
   ],
   "source": [
    "fig, ax = plt.subplots(figsize=(12, 6))\n",
    "\n",
    "x = list(df[\"ano\"])\n",
    "y = list(df[\"qtd de habitantes\"])\n",
    "\n",
    "plt.bar(x,y)\n",
    "\n",
    "ax.set_title('Crescimento da população brasileira de 1900 a 2010')\n",
    "ax.set_xlabel('anos')\n",
    "ax.set_ylabel('qtd de habitantes')\n",
    "\n",
    "#fig.savefig('images/grafico1_cresc_pop_brasil.jpg')\n",
    "\n",
    "plt.show()"
   ]
  },
  {
   "cell_type": "markdown",
   "metadata": {},
   "source": [
    "A seguir os gráfico de barra vertical referente ao estado cívil frequêntadores do parque."
   ]
  },
  {
   "cell_type": "code",
   "execution_count": 11,
   "metadata": {},
   "outputs": [],
   "source": [
    "# dados\n",
    "x = np.array(['casada(o)', 'solteira(o)','separada(o)', 'viúva(o)'])\n",
    "y = np.array([8, 7, 3, 2])"
   ]
  },
  {
   "cell_type": "code",
   "execution_count": 12,
   "metadata": {},
   "outputs": [
    {
     "data": {
      "image/png": "[encoded data removed]",
      "text/plain": [
       "<Figure size 864x432 with 1 Axes>"
      ]
     },
     "metadata": {
      "needs_background": "light"
     },
     "output_type": "display_data"
    }
   ],
   "source": [
    "fig, ax = plt.subplots(figsize=(12,6))\n",
    "\n",
    "plt.bar(x,y)\n",
    "\n",
    "ax.set_title('Estado cívil dos frequentadores do parque')\n",
    "ax.set_xlabel('estado cívil')\n",
    "ax.set_ylabel('números')\n",
    "\n",
    "#fig.savefig('images/grafico2_barras_vertical.jpg')\n",
    "\n",
    "plt.show()"
   ]
  },
  {
   "cell_type": "code",
   "execution_count": 13,
   "metadata": {},
   "outputs": [
    {
     "data": {
      "image/png": "[encoded data removed]",
      "text/plain": [
       "<Figure size 864x432 with 1 Axes>"
      ]
     },
     "metadata": {
      "needs_background": "light"
     },
     "output_type": "display_data"
    }
   ],
   "source": [
    "fig, ax = plt.subplots(figsize=(12,6))  \n",
    "\n",
    "ax.set_title('Estado cívil dos frequentadores do parque')\n",
    "ax.set_xlabel('estado cívil')\n",
    "ax.set_ylabel('números')\n",
    "\n",
    "plt.barh(x,y)\n",
    "\n",
    "#fig.savefig('images/grafico2_barras_horizontal.jpg')\n",
    "\n",
    "plt.show()"
   ]
  },
  {
   "cell_type": "markdown",
   "metadata": {},
   "source": [
    "### Histograma"
   ]
  },
  {
   "cell_type": "markdown",
   "metadata": {},
   "source": [
    "A tabela a seguir está relaciona a renda per capita média ()em reais de cada estado, no Brasil, em 2000."
   ]
  },
  {
   "cell_type": "code",
   "execution_count": 14,
   "metadata": {},
   "outputs": [
    {
     "data": {
      "text/html": [
       "<div>\n",
       "<style scoped>\n",
       "    .dataframe tbody tr th:only-of-type {\n",
       "        vertical-align: middle;\n",
       "    }\n",
       "\n",
       "    .dataframe tbody tr th {\n",
       "        vertical-align: top;\n",
       "    }\n",
       "\n",
       "    .dataframe thead th {\n",
       "        text-align: right;\n",
       "    }\n",
       "</style>\n",
       "<table border=\"1\" class=\"dataframe\">\n",
       "  <thead>\n",
       "    <tr style=\"text-align: right;\">\n",
       "      <th></th>\n",
       "      <th>Estado</th>\n",
       "      <th>renda</th>\n",
       "    </tr>\n",
       "  </thead>\n",
       "  <tbody>\n",
       "    <tr>\n",
       "      <th>0</th>\n",
       "      <td>Distrito Federal</td>\n",
       "      <td>605.4</td>\n",
       "    </tr>\n",
       "    <tr>\n",
       "      <th>1</th>\n",
       "      <td>Santa Catarina</td>\n",
       "      <td>348.7</td>\n",
       "    </tr>\n",
       "    <tr>\n",
       "      <th>2</th>\n",
       "      <td>São Paulo</td>\n",
       "      <td>442.7</td>\n",
       "    </tr>\n",
       "    <tr>\n",
       "      <th>3</th>\n",
       "      <td>Rio Grande do Sul</td>\n",
       "      <td>357.7</td>\n",
       "    </tr>\n",
       "    <tr>\n",
       "      <th>4</th>\n",
       "      <td>Rio de Janeiro</td>\n",
       "      <td>413.9</td>\n",
       "    </tr>\n",
       "    <tr>\n",
       "      <th>5</th>\n",
       "      <td>Paraná</td>\n",
       "      <td>321.4</td>\n",
       "    </tr>\n",
       "    <tr>\n",
       "      <th>6</th>\n",
       "      <td>Mato Grosso do Sul</td>\n",
       "      <td>287.5</td>\n",
       "    </tr>\n",
       "    <tr>\n",
       "      <th>7</th>\n",
       "      <td>Goiás</td>\n",
       "      <td>286.0</td>\n",
       "    </tr>\n",
       "    <tr>\n",
       "      <th>8</th>\n",
       "      <td>Mato Grosso</td>\n",
       "      <td>288.1</td>\n",
       "    </tr>\n",
       "    <tr>\n",
       "      <th>9</th>\n",
       "      <td>Minas Gerais</td>\n",
       "      <td>276.6</td>\n",
       "    </tr>\n",
       "    <tr>\n",
       "      <th>10</th>\n",
       "      <td>Espírito Santo</td>\n",
       "      <td>289.6</td>\n",
       "    </tr>\n",
       "    <tr>\n",
       "      <th>11</th>\n",
       "      <td>Amapá</td>\n",
       "      <td>211.4</td>\n",
       "    </tr>\n",
       "    <tr>\n",
       "      <th>12</th>\n",
       "      <td>Roraima</td>\n",
       "      <td>232.5</td>\n",
       "    </tr>\n",
       "    <tr>\n",
       "      <th>13</th>\n",
       "      <td>Rondônia</td>\n",
       "      <td>233.8</td>\n",
       "    </tr>\n",
       "    <tr>\n",
       "      <th>14</th>\n",
       "      <td>Pará</td>\n",
       "      <td>168.6</td>\n",
       "    </tr>\n",
       "    <tr>\n",
       "      <th>15</th>\n",
       "      <td>Amazonas</td>\n",
       "      <td>173.9</td>\n",
       "    </tr>\n",
       "    <tr>\n",
       "      <th>16</th>\n",
       "      <td>Tocantins</td>\n",
       "      <td>172.6</td>\n",
       "    </tr>\n",
       "    <tr>\n",
       "      <th>17</th>\n",
       "      <td>Pernambuco</td>\n",
       "      <td>183.8</td>\n",
       "    </tr>\n",
       "    <tr>\n",
       "      <th>18</th>\n",
       "      <td>Rio Grande do Norte</td>\n",
       "      <td>176.2</td>\n",
       "    </tr>\n",
       "    <tr>\n",
       "      <th>19</th>\n",
       "      <td>Ceará</td>\n",
       "      <td>156.2</td>\n",
       "    </tr>\n",
       "    <tr>\n",
       "      <th>20</th>\n",
       "      <td>Acre</td>\n",
       "      <td>180.7</td>\n",
       "    </tr>\n",
       "    <tr>\n",
       "      <th>21</th>\n",
       "      <td>Bahia</td>\n",
       "      <td>160.2</td>\n",
       "    </tr>\n",
       "    <tr>\n",
       "      <th>22</th>\n",
       "      <td>Sergipe</td>\n",
       "      <td>163.5</td>\n",
       "    </tr>\n",
       "    <tr>\n",
       "      <th>23</th>\n",
       "      <td>Paraíba</td>\n",
       "      <td>150.2</td>\n",
       "    </tr>\n",
       "    <tr>\n",
       "      <th>24</th>\n",
       "      <td>Piauí</td>\n",
       "      <td>129.0</td>\n",
       "    </tr>\n",
       "    <tr>\n",
       "      <th>25</th>\n",
       "      <td>Alagoas</td>\n",
       "      <td>139.9</td>\n",
       "    </tr>\n",
       "    <tr>\n",
       "      <th>26</th>\n",
       "      <td>Maranhão</td>\n",
       "      <td>110.4</td>\n",
       "    </tr>\n",
       "  </tbody>\n",
       "</table>\n",
       "</div>"
      ],
      "text/plain": [
       "                 Estado  renda\n",
       "0      Distrito Federal  605.4\n",
       "1        Santa Catarina  348.7\n",
       "2             São Paulo  442.7\n",
       "3     Rio Grande do Sul  357.7\n",
       "4        Rio de Janeiro  413.9\n",
       "5                Paraná  321.4\n",
       "6    Mato Grosso do Sul  287.5\n",
       "7                 Goiás  286.0\n",
       "8           Mato Grosso  288.1\n",
       "9          Minas Gerais  276.6\n",
       "10       Espírito Santo  289.6\n",
       "11                Amapá  211.4\n",
       "12              Roraima  232.5\n",
       "13             Rondônia  233.8\n",
       "14                 Pará  168.6\n",
       "15             Amazonas  173.9\n",
       "16            Tocantins  172.6\n",
       "17           Pernambuco  183.8\n",
       "18  Rio Grande do Norte  176.2\n",
       "19                Ceará  156.2\n",
       "20                 Acre  180.7\n",
       "21                Bahia  160.2\n",
       "22              Sergipe  163.5\n",
       "23              Paraíba  150.2\n",
       "24                Piauí  129.0\n",
       "25              Alagoas  139.9\n",
       "26             Maranhão  110.4"
      ]
     },
     "execution_count": 14,
     "metadata": {},
     "output_type": "execute_result"
    }
   ],
   "source": [
    "# lendo os dados\n",
    "df = pd.read_csv(\"../data/descritiva/renda_per_capita_br_2002.csv\",sep=';')\n",
    "df"
   ]
  },
  {
   "cell_type": "markdown",
   "metadata": {},
   "source": [
    "Agrupando esses valores em cinco classes de intervalos, \n",
    "$100 \\vdash 200$, $200 \\vdash 300$, $300 \\vdash 400$, $400 \\vdash 500$ e $500 \\vdash 600$, \n",
    "é possível se construir uma tabela de frequência.\n",
    "Para representar graficamente essas informações, construimos um gráfico semelhante ao gráfico de barras verticais, usando como abscissas o limite das classes de intervalos e como ordenada a frequência (absoluta ou relativa)."
   ]
  },
  {
   "cell_type": "code",
   "execution_count": 15,
   "metadata": {},
   "outputs": [],
   "source": [
    "# define os intervalos de classe\n",
    "bins = [100, 200, 300, 400, 500, 600, 700]"
   ]
  },
  {
   "cell_type": "code",
   "execution_count": 16,
   "metadata": {},
   "outputs": [
    {
     "data": {
      "text/html": [
       "<div>\n",
       "<style scoped>\n",
       "    .dataframe tbody tr th:only-of-type {\n",
       "        vertical-align: middle;\n",
       "    }\n",
       "\n",
       "    .dataframe tbody tr th {\n",
       "        vertical-align: top;\n",
       "    }\n",
       "\n",
       "    .dataframe thead th {\n",
       "        text-align: right;\n",
       "    }\n",
       "</style>\n",
       "<table border=\"1\" class=\"dataframe\">\n",
       "  <thead>\n",
       "    <tr style=\"text-align: right;\">\n",
       "      <th></th>\n",
       "      <th>Estado</th>\n",
       "      <th>renda</th>\n",
       "    </tr>\n",
       "  </thead>\n",
       "  <tbody>\n",
       "    <tr>\n",
       "      <th>0</th>\n",
       "      <td>Distrito Federal</td>\n",
       "      <td>[600, 700)</td>\n",
       "    </tr>\n",
       "    <tr>\n",
       "      <th>1</th>\n",
       "      <td>Santa Catarina</td>\n",
       "      <td>[300, 400)</td>\n",
       "    </tr>\n",
       "    <tr>\n",
       "      <th>2</th>\n",
       "      <td>São Paulo</td>\n",
       "      <td>[400, 500)</td>\n",
       "    </tr>\n",
       "    <tr>\n",
       "      <th>3</th>\n",
       "      <td>Rio Grande do Sul</td>\n",
       "      <td>[300, 400)</td>\n",
       "    </tr>\n",
       "    <tr>\n",
       "      <th>4</th>\n",
       "      <td>Rio de Janeiro</td>\n",
       "      <td>[400, 500)</td>\n",
       "    </tr>\n",
       "    <tr>\n",
       "      <th>5</th>\n",
       "      <td>Paraná</td>\n",
       "      <td>[300, 400)</td>\n",
       "    </tr>\n",
       "    <tr>\n",
       "      <th>6</th>\n",
       "      <td>Mato Grosso do Sul</td>\n",
       "      <td>[200, 300)</td>\n",
       "    </tr>\n",
       "    <tr>\n",
       "      <th>7</th>\n",
       "      <td>Goiás</td>\n",
       "      <td>[200, 300)</td>\n",
       "    </tr>\n",
       "    <tr>\n",
       "      <th>8</th>\n",
       "      <td>Mato Grosso</td>\n",
       "      <td>[200, 300)</td>\n",
       "    </tr>\n",
       "    <tr>\n",
       "      <th>9</th>\n",
       "      <td>Minas Gerais</td>\n",
       "      <td>[200, 300)</td>\n",
       "    </tr>\n",
       "    <tr>\n",
       "      <th>10</th>\n",
       "      <td>Espírito Santo</td>\n",
       "      <td>[200, 300)</td>\n",
       "    </tr>\n",
       "    <tr>\n",
       "      <th>11</th>\n",
       "      <td>Amapá</td>\n",
       "      <td>[200, 300)</td>\n",
       "    </tr>\n",
       "    <tr>\n",
       "      <th>12</th>\n",
       "      <td>Roraima</td>\n",
       "      <td>[200, 300)</td>\n",
       "    </tr>\n",
       "    <tr>\n",
       "      <th>13</th>\n",
       "      <td>Rondônia</td>\n",
       "      <td>[200, 300)</td>\n",
       "    </tr>\n",
       "    <tr>\n",
       "      <th>14</th>\n",
       "      <td>Pará</td>\n",
       "      <td>[100, 200)</td>\n",
       "    </tr>\n",
       "    <tr>\n",
       "      <th>15</th>\n",
       "      <td>Amazonas</td>\n",
       "      <td>[100, 200)</td>\n",
       "    </tr>\n",
       "    <tr>\n",
       "      <th>16</th>\n",
       "      <td>Tocantins</td>\n",
       "      <td>[100, 200)</td>\n",
       "    </tr>\n",
       "    <tr>\n",
       "      <th>17</th>\n",
       "      <td>Pernambuco</td>\n",
       "      <td>[100, 200)</td>\n",
       "    </tr>\n",
       "    <tr>\n",
       "      <th>18</th>\n",
       "      <td>Rio Grande do Norte</td>\n",
       "      <td>[100, 200)</td>\n",
       "    </tr>\n",
       "    <tr>\n",
       "      <th>19</th>\n",
       "      <td>Ceará</td>\n",
       "      <td>[100, 200)</td>\n",
       "    </tr>\n",
       "    <tr>\n",
       "      <th>20</th>\n",
       "      <td>Acre</td>\n",
       "      <td>[100, 200)</td>\n",
       "    </tr>\n",
       "    <tr>\n",
       "      <th>21</th>\n",
       "      <td>Bahia</td>\n",
       "      <td>[100, 200)</td>\n",
       "    </tr>\n",
       "    <tr>\n",
       "      <th>22</th>\n",
       "      <td>Sergipe</td>\n",
       "      <td>[100, 200)</td>\n",
       "    </tr>\n",
       "    <tr>\n",
       "      <th>23</th>\n",
       "      <td>Paraíba</td>\n",
       "      <td>[100, 200)</td>\n",
       "    </tr>\n",
       "    <tr>\n",
       "      <th>24</th>\n",
       "      <td>Piauí</td>\n",
       "      <td>[100, 200)</td>\n",
       "    </tr>\n",
       "    <tr>\n",
       "      <th>25</th>\n",
       "      <td>Alagoas</td>\n",
       "      <td>[100, 200)</td>\n",
       "    </tr>\n",
       "    <tr>\n",
       "      <th>26</th>\n",
       "      <td>Maranhão</td>\n",
       "      <td>[100, 200)</td>\n",
       "    </tr>\n",
       "  </tbody>\n",
       "</table>\n",
       "</div>"
      ],
      "text/plain": [
       "                 Estado       renda\n",
       "0      Distrito Federal  [600, 700)\n",
       "1        Santa Catarina  [300, 400)\n",
       "2             São Paulo  [400, 500)\n",
       "3     Rio Grande do Sul  [300, 400)\n",
       "4        Rio de Janeiro  [400, 500)\n",
       "5                Paraná  [300, 400)\n",
       "6    Mato Grosso do Sul  [200, 300)\n",
       "7                 Goiás  [200, 300)\n",
       "8           Mato Grosso  [200, 300)\n",
       "9          Minas Gerais  [200, 300)\n",
       "10       Espírito Santo  [200, 300)\n",
       "11                Amapá  [200, 300)\n",
       "12              Roraima  [200, 300)\n",
       "13             Rondônia  [200, 300)\n",
       "14                 Pará  [100, 200)\n",
       "15             Amazonas  [100, 200)\n",
       "16            Tocantins  [100, 200)\n",
       "17           Pernambuco  [100, 200)\n",
       "18  Rio Grande do Norte  [100, 200)\n",
       "19                Ceará  [100, 200)\n",
       "20                 Acre  [100, 200)\n",
       "21                Bahia  [100, 200)\n",
       "22              Sergipe  [100, 200)\n",
       "23              Paraíba  [100, 200)\n",
       "24                Piauí  [100, 200)\n",
       "25              Alagoas  [100, 200)\n",
       "26             Maranhão  [100, 200)"
      ]
     },
     "execution_count": 16,
     "metadata": {},
     "output_type": "execute_result"
    }
   ],
   "source": [
    "# cria a coluna de intervalos de classe\n",
    "df['renda'] = pd.cut(df['renda'], bins, right=False, include_lowest=True)\n",
    "df"
   ]
  },
  {
   "cell_type": "code",
   "execution_count": 17,
   "metadata": {},
   "outputs": [
    {
     "data": {
      "text/plain": [
       "renda\n",
       "[100, 200)    13\n",
       "[200, 300)     8\n",
       "[300, 400)     3\n",
       "[400, 500)     2\n",
       "[500, 600)     0\n",
       "[600, 700)     1\n",
       "Name: count, dtype: int64"
      ]
     },
     "execution_count": 17,
     "metadata": {},
     "output_type": "execute_result"
    }
   ],
   "source": [
    "# cria a tabela de distribuição de frequências absoluta\n",
    "serie = df['renda'].value_counts(sort=False)\n",
    "serie\n"
   ]
  },
  {
   "cell_type": "code",
   "execution_count": 18,
   "metadata": {},
   "outputs": [
    {
     "data": {
      "text/plain": [
       "renda\n",
       "[100, 200)    13\n",
       "[200, 300)     8\n",
       "[300, 400)     3\n",
       "[400, 500)     2\n",
       "[500, 600)     0\n",
       "[600, 700)     1\n",
       "Name: count, dtype: int64"
      ]
     },
     "execution_count": 18,
     "metadata": {},
     "output_type": "execute_result"
    }
   ],
   "source": [
    "# organiza os intervalos de classe em ordem crescente\n",
    "serie = serie.sort_index()\n",
    "serie"
   ]
  },
  {
   "cell_type": "code",
   "execution_count": 19,
   "metadata": {},
   "outputs": [
    {
     "data": {
      "text/html": [
       "<div>\n",
       "<style scoped>\n",
       "    .dataframe tbody tr th:only-of-type {\n",
       "        vertical-align: middle;\n",
       "    }\n",
       "\n",
       "    .dataframe tbody tr th {\n",
       "        vertical-align: top;\n",
       "    }\n",
       "\n",
       "    .dataframe thead th {\n",
       "        text-align: right;\n",
       "    }\n",
       "</style>\n",
       "<table border=\"1\" class=\"dataframe\">\n",
       "  <thead>\n",
       "    <tr style=\"text-align: right;\">\n",
       "      <th></th>\n",
       "      <th>classes</th>\n",
       "      <th>números</th>\n",
       "    </tr>\n",
       "  </thead>\n",
       "  <tbody>\n",
       "    <tr>\n",
       "      <th>0</th>\n",
       "      <td>[100, 200)</td>\n",
       "      <td>13</td>\n",
       "    </tr>\n",
       "    <tr>\n",
       "      <th>1</th>\n",
       "      <td>[200, 300)</td>\n",
       "      <td>8</td>\n",
       "    </tr>\n",
       "    <tr>\n",
       "      <th>2</th>\n",
       "      <td>[300, 400)</td>\n",
       "      <td>3</td>\n",
       "    </tr>\n",
       "    <tr>\n",
       "      <th>3</th>\n",
       "      <td>[400, 500)</td>\n",
       "      <td>2</td>\n",
       "    </tr>\n",
       "    <tr>\n",
       "      <th>4</th>\n",
       "      <td>[500, 600)</td>\n",
       "      <td>0</td>\n",
       "    </tr>\n",
       "    <tr>\n",
       "      <th>5</th>\n",
       "      <td>[600, 700)</td>\n",
       "      <td>1</td>\n",
       "    </tr>\n",
       "  </tbody>\n",
       "</table>\n",
       "</div>"
      ],
      "text/plain": [
       "      classes  números\n",
       "0  [100, 200)       13\n",
       "1  [200, 300)        8\n",
       "2  [300, 400)        3\n",
       "3  [400, 500)        2\n",
       "4  [500, 600)        0\n",
       "5  [600, 700)        1"
      ]
     },
     "execution_count": 19,
     "metadata": {},
     "output_type": "execute_result"
    }
   ],
   "source": [
    "#serie\n",
    "df = pd.DataFrame({'classes':serie.index, 'números':serie.values})\n",
    "df"
   ]
  },
  {
   "cell_type": "code",
   "execution_count": 20,
   "metadata": {},
   "outputs": [
    {
     "data": {
      "image/png": "[encoded data removed]",
      "text/plain": [
       "<Figure size 864x432 with 1 Axes>"
      ]
     },
     "metadata": {
      "needs_background": "light"
     },
     "output_type": "display_data"
    }
   ],
   "source": [
    "fig, ax = plt.subplots(figsize=(12, 6))\n",
    "\n",
    "x = ['classe1', 'classe2','classe 3', 'classe 4', 'classe 5', 'classe 6']\n",
    "y = list(df['números'])\n",
    "plt.bar(x,y)\n",
    "\n",
    "ax.set_title('Gráfico de barras vertical')\n",
    "ax.set_xlabel('renda per capita (em reais)')\n",
    "ax.set_ylabel('número de estados')\n",
    "\n",
    "#fig.savefig('images/histograma1.jpg')\n",
    "\n",
    "plt.show()"
   ]
  },
  {
   "cell_type": "markdown",
   "metadata": {},
   "source": [
    "Histrograma referente a variável estado cívil da tabela de frequentadores do parque."
   ]
  },
  {
   "cell_type": "code",
   "execution_count": 21,
   "metadata": {},
   "outputs": [],
   "source": [
    "# dados\n",
    "x = [\n",
    "    'casada(o)', \n",
    "    'solteira(o)', \n",
    "    'viúva(o)', \n",
    "    'separada(o)', \n",
    "    'solteira(o)', \n",
    "    'solteira(o)', \n",
    "    'solteira(o)', \n",
    "    'casada(o)', \n",
    "    'separada(o)', \n",
    "    'casada(o)', \n",
    "    'solteira(o)', \n",
    "    'casada(o)', \n",
    "    'casada(o)', \n",
    "    'casada(o)', \n",
    "    'solteira(o)', \n",
    "    'viúva(o)', \n",
    "    'solteira(o)', \n",
    "    'casada(o)', \n",
    "    'separada(o)', \n",
    "    'casada(o)' \n",
    "]"
   ]
  },
  {
   "cell_type": "code",
   "execution_count": 22,
   "metadata": {},
   "outputs": [
    {
     "data": {
      "image/png": "[encoded data removed]",
      "text/plain": [
       "<Figure size 864x432 with 1 Axes>"
      ]
     },
     "metadata": {
      "needs_background": "light"
     },
     "output_type": "display_data"
    }
   ],
   "source": [
    "fig, ax = plt.subplots(figsize=(12,6)) \n",
    "\n",
    "plt.hist(x)\n",
    "\n",
    "ax.set_title('Histrograma - Estado cívil ')\n",
    "ax.set_xlabel('estado cívil')\n",
    "ax.set_ylabel('números')\n",
    "\n",
    "#fig.savefig('images/histograma2.jpg')\n",
    "\n",
    "plt.show() "
   ]
  },
  {
   "cell_type": "markdown",
   "metadata": {},
   "source": [
    "### Gráfico de linhas"
   ]
  },
  {
   "cell_type": "markdown",
   "metadata": {},
   "source": [
    "O gráfico a seguir mosta a evolução da taxa de desemprego, no Brasil, em 2012.\n",
    "A cada mês é associado uma certa taxa de desemprego."
   ]
  },
  {
   "cell_type": "code",
   "execution_count": 23,
   "metadata": {},
   "outputs": [],
   "source": [
    "# taxa de desemprego no Brasil em 2012\n",
    "x = [\"jan\", \"fev\", \"mar\", \"abr\", \"mai\", \"jun\", \"jul\", \"ago\", \"set\", \"out\", \"nov\", \"dez\"]\n",
    "y = [5.5, 5.7, 6.2, 6.0, 5.8, 5.9, 5.4, 5.3, 5.4, 5.3, 4.9,\t4.6]"
   ]
  },
  {
   "cell_type": "code",
   "execution_count": 24,
   "metadata": {},
   "outputs": [
    {
     "name": "stdout",
     "output_type": "stream",
     "text": [
      "\\begin{tabular}{llr}\n",
      "\\toprule\n",
      " & mes & taxa \\\\\n",
      "\\midrule\n",
      "0 & jan & 5.500000 \\\\\n",
      "1 & fev & 5.700000 \\\\\n",
      "2 & mar & 6.200000 \\\\\n",
      "3 & abr & 6.000000 \\\\\n",
      "4 & mai & 5.800000 \\\\\n",
      "5 & jun & 5.900000 \\\\\n",
      "6 & jul & 5.400000 \\\\\n",
      "7 & ago & 5.300000 \\\\\n",
      "8 & set & 5.400000 \\\\\n",
      "9 & out & 5.300000 \\\\\n",
      "10 & nov & 4.900000 \\\\\n",
      "11 & dez & 4.600000 \\\\\n",
      "\\bottomrule\n",
      "\\end{tabular}\n",
      "\n"
     ]
    }
   ],
   "source": [
    "data = {\n",
    "  \"mes\": [\"jan\", \"fev\", \"mar\", \"abr\", \"mai\", \"jun\", \"jul\", \"ago\", \"set\", \"out\", \"nov\", \"dez\"],\n",
    "  \"taxa\": [5.5, 5.7, 6.2, 6.0, 5.8, 5.9, 5.4, 5.3, 5.4, 5.3, 4.9,\t4.6]\n",
    "}\n",
    "\n",
    "df_taxa_desemprego = pd.DataFrame(data)\n",
    "\n",
    "print(df_taxa_desemprego.to_latex())"
   ]
  },
  {
   "cell_type": "code",
   "execution_count": 25,
   "metadata": {},
   "outputs": [
    {
     "data": {
      "image/png": "[encoded data removed]",
      "text/plain": [
       "<Figure size 864x432 with 1 Axes>"
      ]
     },
     "metadata": {
      "needs_background": "light"
     },
     "output_type": "display_data"
    }
   ],
   "source": [
    "fig, ax = plt.subplots(figsize=(12,6))  \n",
    "\n",
    "x = list(df_taxa_desemprego[\"mes\"])\n",
    "y = list(df_taxa_desemprego[\"taxa\"])\n",
    "\n",
    "plt.plot(x,y)\n",
    "\n",
    "ax.set_title('Taxa de desemprego Brasil em 2012')\n",
    "ax.set_xlabel('meses')\n",
    "ax.set_ylabel('percentual')\n",
    "\n",
    "fig.savefig('images/graf5_linhas.jpg')\n",
    "\n",
    "plt.show()"
   ]
  },
  {
   "cell_type": "code",
   "execution_count": 26,
   "metadata": {},
   "outputs": [
    {
     "name": "stdout",
     "output_type": "stream",
     "text": [
      "\\begin{tabular}{llr}\n",
      "\\toprule\n",
      " & ano & percentual \\\\\n",
      "\\midrule\n",
      "0 & 1999 & 12.800000 \\\\\n",
      "1 & 2000 & 13.200000 \\\\\n",
      "2 & 2001 & 13.600000 \\\\\n",
      "3 & 2002 & 14.000000 \\\\\n",
      "\\bottomrule\n",
      "\\end{tabular}\n",
      "\n"
     ]
    }
   ],
   "source": [
    "data = {\n",
    "  \"ano\": [\"1999\", \"2000\", \"2001\", \"2002\"],\n",
    "  \"percentual\": [12.8, 13.2, 13.6, 14.0]\n",
    "}\n",
    "\n",
    "df_cons_cafe = pd.DataFrame(data)\n",
    "\n",
    "print(df_cons_cafe.to_latex())"
   ]
  },
  {
   "cell_type": "code",
   "execution_count": 27,
   "metadata": {},
   "outputs": [
    {
     "data": {
      "image/png": "[encoded data removed]",
      "text/plain": [
       "<Figure size 864x432 with 1 Axes>"
      ]
     },
     "metadata": {
      "needs_background": "light"
     },
     "output_type": "display_data"
    }
   ],
   "source": [
    "fig, ax = plt.subplots(figsize=(12,6))\n",
    "\n",
    "x = list(df_cons_cafe[\"ano\"])\n",
    "y = list(df_cons_cafe[\"percentual\"])\n",
    "\n",
    "plt.bar(x,y, width = 0.5)\n",
    "#ax = df_cons_cafe.plot.bar()\n",
    "\n",
    "#ax.set_title('Consumo de café (em milhões de saca)')\n",
    "ax.set_xlabel('ano')\n",
    "ax.set_ylabel('porcentagem')\n",
    "ax.bar_label(ax.containers[0])\n",
    "\n",
    "fig.savefig('images/graf_cons_cafe.jpg')\n",
    "\n",
    "plt.show()"
   ]
  },
  {
   "cell_type": "code",
   "execution_count": 28,
   "metadata": {},
   "outputs": [
    {
     "data": {
      "text/html": [
       "<div>\n",
       "<style scoped>\n",
       "    .dataframe tbody tr th:only-of-type {\n",
       "        vertical-align: middle;\n",
       "    }\n",
       "\n",
       "    .dataframe tbody tr th {\n",
       "        vertical-align: top;\n",
       "    }\n",
       "\n",
       "    .dataframe thead th {\n",
       "        text-align: right;\n",
       "    }\n",
       "</style>\n",
       "<table border=\"1\" class=\"dataframe\">\n",
       "  <thead>\n",
       "    <tr style=\"text-align: right;\">\n",
       "      <th></th>\n",
       "      <th>região</th>\n",
       "      <th>percentual</th>\n",
       "    </tr>\n",
       "  </thead>\n",
       "  <tbody>\n",
       "    <tr>\n",
       "      <th>0</th>\n",
       "      <td>Centro-Oeste</td>\n",
       "      <td>7.2</td>\n",
       "    </tr>\n",
       "    <tr>\n",
       "      <th>1</th>\n",
       "      <td>Norte</td>\n",
       "      <td>0.7</td>\n",
       "    </tr>\n",
       "    <tr>\n",
       "      <th>2</th>\n",
       "      <td>Sudeste</td>\n",
       "      <td>42.6</td>\n",
       "    </tr>\n",
       "    <tr>\n",
       "      <th>3</th>\n",
       "      <td>Sul</td>\n",
       "      <td>31.6</td>\n",
       "    </tr>\n",
       "    <tr>\n",
       "      <th>4</th>\n",
       "      <td>Nordeste</td>\n",
       "      <td>17.9</td>\n",
       "    </tr>\n",
       "  </tbody>\n",
       "</table>\n",
       "</div>"
      ],
      "text/plain": [
       "         região  percentual\n",
       "0  Centro-Oeste         7.2\n",
       "1         Norte         0.7\n",
       "2       Sudeste        42.6\n",
       "3           Sul        31.6\n",
       "4      Nordeste        17.9"
      ]
     },
     "execution_count": 28,
     "metadata": {},
     "output_type": "execute_result"
    }
   ],
   "source": [
    "data = {\n",
    "  \"região\": [\"Centro-Oeste\", \"Norte\", \"Sudeste\", \"Sul\", \"Nordeste\"],\n",
    "  \"percentual\": [7.2, 0.7, 42.6, 31.6, 17.9]\n",
    "}\n",
    "\n",
    "df_regiao_empresa = pd.DataFrame(data)\n",
    "\n",
    "df_regiao_empresa\n",
    "\n",
    "#print(df_regiao_empresa.to_latex())"
   ]
  },
  {
   "cell_type": "code",
   "execution_count": 29,
   "metadata": {},
   "outputs": [
    {
     "data": {
      "image/png": "[encoded data removed]",
      "text/plain": [
       "<Figure size 432x432 with 1 Axes>"
      ]
     },
     "metadata": {},
     "output_type": "display_data"
    }
   ],
   "source": [
    "# criando uma area plotavel\n",
    "fig, ax = plt.subplots(figsize=(6,6))  \n",
    "\n",
    "#ax.set_title('Distribuição das empresas por região (%)')\n",
    "\n",
    "x = list(df_regiao_empresa[\"região\"])\n",
    "y = list(df_regiao_empresa[\"percentual\"])\n",
    "\n",
    "ax.pie(y, labels=x, autopct='%1.1f%%')    \n",
    "\n",
    "#plt.pie(y, labels=x)\n",
    "#ax.pie_label(ax.containers[0])\n",
    "\n",
    "\n",
    "fig.savefig('images/graf_regiao_empresas.jpg')\n",
    "\n",
    "plt.show()"
   ]
  },
  {
   "cell_type": "code",
   "execution_count": 30,
   "metadata": {},
   "outputs": [
    {
     "data": {
      "text/html": [
       "<div>\n",
       "<style scoped>\n",
       "    .dataframe tbody tr th:only-of-type {\n",
       "        vertical-align: middle;\n",
       "    }\n",
       "\n",
       "    .dataframe tbody tr th {\n",
       "        vertical-align: top;\n",
       "    }\n",
       "\n",
       "    .dataframe thead th {\n",
       "        text-align: right;\n",
       "    }\n",
       "</style>\n",
       "<table border=\"1\" class=\"dataframe\">\n",
       "  <thead>\n",
       "    <tr style=\"text-align: right;\">\n",
       "      <th></th>\n",
       "      <th>estados</th>\n",
       "      <th>percentual</th>\n",
       "    </tr>\n",
       "  </thead>\n",
       "  <tbody>\n",
       "    <tr>\n",
       "      <th>0</th>\n",
       "      <td>São Paulo</td>\n",
       "      <td>24.2</td>\n",
       "    </tr>\n",
       "    <tr>\n",
       "      <th>1</th>\n",
       "      <td>Santa Catarina</td>\n",
       "      <td>13.5</td>\n",
       "    </tr>\n",
       "    <tr>\n",
       "      <th>2</th>\n",
       "      <td>Minas Gerais</td>\n",
       "      <td>11.7</td>\n",
       "    </tr>\n",
       "    <tr>\n",
       "      <th>3</th>\n",
       "      <td>Ceará</td>\n",
       "      <td>10.5</td>\n",
       "    </tr>\n",
       "  </tbody>\n",
       "</table>\n",
       "</div>"
      ],
      "text/plain": [
       "          estados  percentual\n",
       "0       São Paulo        24.2\n",
       "1  Santa Catarina        13.5\n",
       "2    Minas Gerais        11.7\n",
       "3           Ceará        10.5"
      ]
     },
     "execution_count": 30,
     "metadata": {},
     "output_type": "execute_result"
    }
   ],
   "source": [
    "data = {\n",
    "  \"estados\": [\"São Paulo\", \"Santa Catarina\", \"Minas Gerais\", \"Ceará\"],\n",
    "  \"percentual\": [24.2, 13.5, 11.7, 10.5]\n",
    "}\n",
    "\n",
    "df_estado_empresa = pd.DataFrame(data)\n",
    "\n",
    "df_estado_empresa\n",
    "\n",
    "#print(df_regiao_empresa.to_latex())"
   ]
  },
  {
   "cell_type": "code",
   "execution_count": 31,
   "metadata": {},
   "outputs": [
    {
     "data": {
      "image/png": "[encoded data removed]",
      "text/plain": [
       "<Figure size 864x432 with 1 Axes>"
      ]
     },
     "metadata": {
      "needs_background": "light"
     },
     "output_type": "display_data"
    }
   ],
   "source": [
    "fig, ax = plt.subplots(figsize=(12,6))\n",
    "\n",
    "x = list(df_estado_empresa[\"estados\"])\n",
    "y = list(df_estado_empresa[\"percentual\"])\n",
    "\n",
    "plt.bar(x,y, width = 0.5)\n",
    "\n",
    "#ax.set_title('Estados que concentram mais empresas (%)')\n",
    "ax.set_xlabel('estados')\n",
    "ax.set_ylabel('porcentagem')\n",
    "ax.bar_label(ax.containers[0])\n",
    "\n",
    "fig.savefig('images/graf_estado_empresas.jpg')\n",
    "\n",
    "plt.show()"
   ]
  },
  {
   "cell_type": "code",
   "execution_count": 91,
   "metadata": {},
   "outputs": [
    {
     "data": {
      "image/png": "[encoded data removed]",
      "text/plain": [
       "<Figure size 432x288 with 2 Axes>"
      ]
     },
     "metadata": {
      "needs_background": "light"
     },
     "output_type": "display_data"
    }
   ],
   "source": [
    "# criando uma area plotavel\n",
    "fig, (ax1,ax2) = plt.subplots(1,2)  \n",
    "\n",
    "#ax.set_title('Distribuição das empresas por região (%)')\n",
    "\n",
    "x1 = list(df_regiao_empresa[\"região\"])\n",
    "y1 = list(df_regiao_empresa[\"percentual\"])\n",
    "\n",
    "x2 = list(df_estado_empresa[\"estados\"])\n",
    "y2 = list(df_estado_empresa[\"percentual\"])\n",
    "\n",
    "ax1.pie(y1, labels=x1)\n",
    "\n",
    "plt.bar(x2,y2)\n",
    "\n",
    "\n",
    "#plt.pie(y, labels=x)\n",
    "#ax.pie_label(ax.containers[0])\n",
    "\n",
    "\n",
    "#fig.savefig('images/graf_regiao_empresas.jpg')\n",
    "\n",
    "plt.show()"
   ]
  },
  {
   "cell_type": "code",
   "execution_count": 92,
   "metadata": {},
   "outputs": [
    {
     "data": {
      "image/png": "[encoded data removed]",
      "text/plain": [
       "<Figure size 1728x432 with 2 Axes>"
      ]
     },
     "metadata": {
      "needs_background": "light"
     },
     "output_type": "display_data"
    }
   ],
   "source": [
    "names = ['group_a', 'group_b', 'group_c']\n",
    "values = [1, 10, 100]\n",
    "\n",
    "plt.figure(figsize=(24, 6))\n",
    "\n",
    "plt.subplot(131)\n",
    "#plt.plot(names, values)\n",
    "ax1.pie(y1, labels=x1)\n",
    "\n",
    "plt.subplot(132)\n",
    "#plt.scatter(names, values)\n",
    "plt.bar(x2,y2)\n",
    "\n",
    "#plt.subplot(133)\n",
    "#plt.bar(names, values)\n",
    "\n",
    "plt.suptitle('Categorical Plotting')\n",
    "plt.show()"
   ]
  },
  {
   "cell_type": "code",
   "execution_count": 32,
   "metadata": {},
   "outputs": [
    {
     "data": {
      "text/html": [
       "<div>\n",
       "<style scoped>\n",
       "    .dataframe tbody tr th:only-of-type {\n",
       "        vertical-align: middle;\n",
       "    }\n",
       "\n",
       "    .dataframe tbody tr th {\n",
       "        vertical-align: top;\n",
       "    }\n",
       "\n",
       "    .dataframe thead th {\n",
       "        text-align: right;\n",
       "    }\n",
       "</style>\n",
       "<table border=\"1\" class=\"dataframe\">\n",
       "  <thead>\n",
       "    <tr style=\"text-align: right;\">\n",
       "      <th></th>\n",
       "      <th>dias</th>\n",
       "      <th>almoço</th>\n",
       "      <th>jantar</th>\n",
       "    </tr>\n",
       "  </thead>\n",
       "  <tbody>\n",
       "    <tr>\n",
       "      <th>0</th>\n",
       "      <td>segunda</td>\n",
       "      <td>62</td>\n",
       "      <td>29</td>\n",
       "    </tr>\n",
       "    <tr>\n",
       "      <th>1</th>\n",
       "      <td>terça</td>\n",
       "      <td>88</td>\n",
       "      <td>34</td>\n",
       "    </tr>\n",
       "    <tr>\n",
       "      <th>2</th>\n",
       "      <td>quarta</td>\n",
       "      <td>58</td>\n",
       "      <td>45</td>\n",
       "    </tr>\n",
       "    <tr>\n",
       "      <th>3</th>\n",
       "      <td>quinta</td>\n",
       "      <td>103</td>\n",
       "      <td>40</td>\n",
       "    </tr>\n",
       "    <tr>\n",
       "      <th>4</th>\n",
       "      <td>sexta</td>\n",
       "      <td>76</td>\n",
       "      <td>81</td>\n",
       "    </tr>\n",
       "    <tr>\n",
       "      <th>5</th>\n",
       "      <td>sábado</td>\n",
       "      <td>136</td>\n",
       "      <td>90</td>\n",
       "    </tr>\n",
       "    <tr>\n",
       "      <th>6</th>\n",
       "      <td>domingo</td>\n",
       "      <td>153</td>\n",
       "      <td>61</td>\n",
       "    </tr>\n",
       "  </tbody>\n",
       "</table>\n",
       "</div>"
      ],
      "text/plain": [
       "      dias  almoço  jantar\n",
       "0  segunda      62      29\n",
       "1    terça      88      34\n",
       "2   quarta      58      45\n",
       "3   quinta     103      40\n",
       "4    sexta      76      81\n",
       "5   sábado     136      90\n",
       "6  domingo     153      61"
      ]
     },
     "execution_count": 32,
     "metadata": {},
     "output_type": "execute_result"
    }
   ],
   "source": [
    "data = {\n",
    "  \"dias\": [\"segunda\", \"terça\", \"quarta\", \"quinta\", \"sexta\", \"sábado\", \"domingo\"],\n",
    "  \"almoço\": [62, 88, 58, 103, 76, 136, 153],\n",
    "  \"jantar\": [29, 34, 45, 40, 81, 90, 61]\n",
    "}\n",
    "\n",
    "df_restaurante = pd.DataFrame(data)\n",
    "\n",
    "df_restaurante\n",
    "\n",
    "#print(df_regiao_empresa.to_latex())"
   ]
  },
  {
   "cell_type": "code",
   "execution_count": 33,
   "metadata": {},
   "outputs": [
    {
     "data": {
      "image/png": "[encoded data removed]",
      "text/plain": [
       "<Figure size 864x432 with 1 Axes>"
      ]
     },
     "metadata": {
      "needs_background": "light"
     },
     "output_type": "display_data"
    }
   ],
   "source": [
    "fig, ax = plt.subplots(figsize=(12,6))\n",
    "\n",
    "x = list(df_restaurante[\"dias\"])\n",
    "y0 = list(df_restaurante[\"almoço\"])\n",
    "y1 = list(df_restaurante[\"jantar\"])\n",
    "\n",
    "ax = df_restaurante.plot.bar(x = \"dias\", rot=0, ax = ax)\n",
    "\n",
    "ax.set_xlabel('dias da semana')\n",
    "ax.set_ylabel('número de clientes')\n",
    "ax.bar_label(ax.containers[0])\n",
    "ax.bar_label(ax.containers[1])\n",
    "\n",
    "\n",
    "#for p in ax.patches: \n",
    "#    ax.annotate(np.round(p.get_height(),decimals=2), (p.get_x()+p.get_width()/4.0, p.get_y()+p.get_height()+1.0))\n",
    "\n",
    "fig.savefig('images/graf_restaurante.jpg')"
   ]
  },
  {
   "cell_type": "code",
   "execution_count": 41,
   "metadata": {},
   "outputs": [
    {
     "data": {
      "text/html": [
       "<div>\n",
       "<style scoped>\n",
       "    .dataframe tbody tr th:only-of-type {\n",
       "        vertical-align: middle;\n",
       "    }\n",
       "\n",
       "    .dataframe tbody tr th {\n",
       "        vertical-align: top;\n",
       "    }\n",
       "\n",
       "    .dataframe thead th {\n",
       "        text-align: right;\n",
       "    }\n",
       "</style>\n",
       "<table border=\"1\" class=\"dataframe\">\n",
       "  <thead>\n",
       "    <tr style=\"text-align: right;\">\n",
       "      <th></th>\n",
       "      <th>gastos</th>\n",
       "      <th>qtd de clientes</th>\n",
       "    </tr>\n",
       "  </thead>\n",
       "  <tbody>\n",
       "    <tr>\n",
       "      <th>0</th>\n",
       "      <td>[5-10)</td>\n",
       "      <td>15</td>\n",
       "    </tr>\n",
       "    <tr>\n",
       "      <th>1</th>\n",
       "      <td>[10-15)</td>\n",
       "      <td>31</td>\n",
       "    </tr>\n",
       "    <tr>\n",
       "      <th>2</th>\n",
       "      <td>[15,20)</td>\n",
       "      <td>20</td>\n",
       "    </tr>\n",
       "    <tr>\n",
       "      <th>3</th>\n",
       "      <td>[20,25)</td>\n",
       "      <td>25</td>\n",
       "    </tr>\n",
       "    <tr>\n",
       "      <th>4</th>\n",
       "      <td>[25,30)</td>\n",
       "      <td>10</td>\n",
       "    </tr>\n",
       "    <tr>\n",
       "      <th>5</th>\n",
       "      <td>[30,35)</td>\n",
       "      <td>19</td>\n",
       "    </tr>\n",
       "  </tbody>\n",
       "</table>\n",
       "</div>"
      ],
      "text/plain": [
       "    gastos  qtd de clientes\n",
       "0   [5-10)               15\n",
       "1  [10-15)               31\n",
       "2  [15,20)               20\n",
       "3  [20,25)               25\n",
       "4  [25,30)               10\n",
       "5  [30,35)               19"
      ]
     },
     "execution_count": 41,
     "metadata": {},
     "output_type": "execute_result"
    }
   ],
   "source": [
    "# questão 287\n",
    "\n",
    "data = {\n",
    "  \"gastos\": [\"[5-10)\", \"[10-15)\", \"[15,20)\", \"[20,25)\",\"[25,30)\",\"[30,35)\"],\n",
    "  \"qtd de clientes\": [15, 31, 20, 25, 10, 19]\n",
    "}\n",
    "\n",
    "df = pd.DataFrame(data)\n",
    "\n",
    "df\n",
    "\n",
    "#print(df.to_latex())"
   ]
  },
  {
   "cell_type": "code",
   "execution_count": 44,
   "metadata": {},
   "outputs": [
    {
     "data": {
      "image/png": "[encoded data removed]",
      "text/plain": [
       "<Figure size 864x432 with 1 Axes>"
      ]
     },
     "metadata": {
      "needs_background": "light"
     },
     "output_type": "display_data"
    }
   ],
   "source": [
    "fig, ax = plt.subplots(figsize=(12,6))\n",
    "\n",
    "x = list(df[\"gastos\"])\n",
    "y = list(df[\"qtd de clientes\"])\n",
    "\n",
    "plt.bar(x,y, width = 0.5)\n",
    "\n",
    "#ax.set_title('')\n",
    "ax.set_xlabel('gastos')\n",
    "ax.set_ylabel('qtd de clientes')\n",
    "ax.bar_label(ax.containers[0])\n",
    "\n",
    "fig.savefig('images/graf_gastos.jpg')\n",
    "\n",
    "plt.show()"
   ]
  },
  {
   "cell_type": "code",
   "execution_count": 63,
   "metadata": {},
   "outputs": [
    {
     "data": {
      "text/html": [
       "<div>\n",
       "<style scoped>\n",
       "    .dataframe tbody tr th:only-of-type {\n",
       "        vertical-align: middle;\n",
       "    }\n",
       "\n",
       "    .dataframe tbody tr th {\n",
       "        vertical-align: top;\n",
       "    }\n",
       "\n",
       "    .dataframe thead th {\n",
       "        text-align: right;\n",
       "    }\n",
       "</style>\n",
       "<table border=\"1\" class=\"dataframe\">\n",
       "  <thead>\n",
       "    <tr style=\"text-align: right;\">\n",
       "      <th></th>\n",
       "      <th>mes</th>\n",
       "      <th>receita</th>\n",
       "      <th>despesa</th>\n",
       "    </tr>\n",
       "  </thead>\n",
       "  <tbody>\n",
       "    <tr>\n",
       "      <th>0</th>\n",
       "      <td>jan</td>\n",
       "      <td>50</td>\n",
       "      <td>20</td>\n",
       "    </tr>\n",
       "    <tr>\n",
       "      <th>1</th>\n",
       "      <td>fev</td>\n",
       "      <td>18</td>\n",
       "      <td>36</td>\n",
       "    </tr>\n",
       "    <tr>\n",
       "      <th>2</th>\n",
       "      <td>mar</td>\n",
       "      <td>15</td>\n",
       "      <td>43</td>\n",
       "    </tr>\n",
       "    <tr>\n",
       "      <th>3</th>\n",
       "      <td>abr</td>\n",
       "      <td>45</td>\n",
       "      <td>30</td>\n",
       "    </tr>\n",
       "    <tr>\n",
       "      <th>4</th>\n",
       "      <td>mai</td>\n",
       "      <td>45</td>\n",
       "      <td>60</td>\n",
       "    </tr>\n",
       "    <tr>\n",
       "      <th>5</th>\n",
       "      <td>jun</td>\n",
       "      <td>55</td>\n",
       "      <td>28</td>\n",
       "    </tr>\n",
       "    <tr>\n",
       "      <th>6</th>\n",
       "      <td>jul</td>\n",
       "      <td>52</td>\n",
       "      <td>23</td>\n",
       "    </tr>\n",
       "    <tr>\n",
       "      <th>7</th>\n",
       "      <td>ago</td>\n",
       "      <td>78</td>\n",
       "      <td>20</td>\n",
       "    </tr>\n",
       "  </tbody>\n",
       "</table>\n",
       "</div>"
      ],
      "text/plain": [
       "   mes  receita  despesa\n",
       "0  jan       50       20\n",
       "1  fev       18       36\n",
       "2  mar       15       43\n",
       "3  abr       45       30\n",
       "4  mai       45       60\n",
       "5  jun       55       28\n",
       "6  jul       52       23\n",
       "7  ago       78       20"
      ]
     },
     "execution_count": 63,
     "metadata": {},
     "output_type": "execute_result"
    }
   ],
   "source": [
    "# questão 294\n",
    "\n",
    "data = {\n",
    "    \"mes\": ['jan', 'fev', 'mar', 'abr', 'mai', 'jun', 'jul', 'ago'],\n",
    "    'receita': [50, 18, 15, 45, 45, 55, 52, 78],\n",
    "    'despesa': [20, 36, 43, 30, 60, 28, 23, 20 ]\n",
    "}\n",
    "\n",
    "df = pd.DataFrame(data)\n",
    "\n",
    "df\n",
    "\n",
    "#print(df.to_latex())"
   ]
  },
  {
   "cell_type": "code",
   "execution_count": 70,
   "metadata": {},
   "outputs": [
    {
     "data": {
      "image/png": "[encoded data removed]",
      "text/plain": [
       "<Figure size 864x432 with 1 Axes>"
      ]
     },
     "metadata": {
      "needs_background": "light"
     },
     "output_type": "display_data"
    }
   ],
   "source": [
    "fig, ax = plt.subplots(figsize=(12,6))  \n",
    "\n",
    "x = list(df[\"mes\"])\n",
    "y = list(df[\"receita\"])\n",
    "z = list(df[\"despesa\"])\n",
    "\n",
    "plt.plot(x,y)\n",
    "\n",
    "plt.plot(x, z, '-.')\n",
    "\n",
    "plt.plot(x, y, marker='o', linestyle='-', label = \"receitas\")\n",
    "plt.plot(x, z, marker='o', linestyle='-', label = \"despesas\")\n",
    "\n",
    "plt.legend()\n",
    "\n",
    "# Add annotations\n",
    "for i, (xi, yi) in enumerate(zip(x, y)):\n",
    "    plt.annotate(f'{yi}', (xi, yi), textcoords=\"offset points\", xytext=(0, 10), ha='center')\n",
    "\n",
    "# Add annotations\n",
    "for i, (xi, yi) in enumerate(zip(x, z)):\n",
    "    plt.annotate(f'{yi}', (xi, yi), textcoords=\"offset points\", xytext=(0, 10), ha='center')\n",
    "\n",
    "#ax.set_title('Desempenho de empresa')\n",
    "ax.set_xlabel('meses')\n",
    "ax.set_ylabel('valores')\n",
    "\n",
    "# Display grid\n",
    "plt.grid(True)\n",
    "\n",
    "fig.savefig('images/graf_desempenho_empresa.jpg')\n",
    "\n",
    "plt.show()"
   ]
  },
  {
   "cell_type": "code",
   "execution_count": null,
   "metadata": {},
   "outputs": [],
   "source": []
  }
 ],
 "metadata": {
  "kernelspec": {
   "display_name": "Python 3",
   "language": "python",
   "name": "python3"
  },
  "language_info": {
   "codemirror_mode": {
    "name": "ipython",
    "version": 3
   },
   "file_extension": ".py",
   "mimetype": "text/x-python",
   "name": "python",
   "nbconvert_exporter": "python",
   "pygments_lexer": "ipython3",
   "version": "3.10.12"
  }
 },
 "nbformat": 4,
 "nbformat_minor": 2
}

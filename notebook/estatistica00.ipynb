{
 "cells": [
  {
   "cell_type": "markdown",
   "metadata": {},
   "source": [
    "# Estatística"
   ]
  },
  {
   "cell_type": "markdown",
   "metadata": {},
   "source": [
    "## Introdução\n",
    "\n",
    "Em época de eleição é comum vermos nos noticiários que circulam na internet, nos jornais e na televisão dados sobre a intenção de votos dos eleitores. \n",
    "Esses dados são apresentados na forma percentual e organizados em gráficos e, acompanhando-os, está sempre a frase “a margem de erro da pesquisa é de X pontos percentuais para mais ou para menos\".\n",
    "\n",
    "As informações de intenção de voto normalmente são coletadas por meio de entrevistas a um grupo de eleitores. Esse grupo é formado de tal modo que seja uma representação de toda a população que votará.\n",
    "\n",
    "Fazer a determinação desse grupo, determinar a margem de erro, calcular os percentuais, fazer a representação gráfica das informações e muito mais fazem parte do que se chama de análise estatística.\n",
    "\n",
    "Essa análise é importante, pois, com esses dados, é possível estimar como será a votação em um lugar, os candidatos com maiores ou menores chances de vencer a eleição, se os eleitores já decidiram sobre seus candidatos ou até mesmo para avaliar um governante atual que esteja tentando se reeleger."
   ]
  },
  {
   "cell_type": "markdown",
   "metadata": {},
   "source": [
    "## Definição e importância\n",
    "\n",
    "Estatística é o ramo da Matemática responsável por coletar, organizar, analisar, interpretar e apresentar dados referentes a determinado assunto com o objetivo de elaborar conclusões baseadas nessas análises.\n",
    "\n",
    "Grande parte das informações divulgadas pelos meios de comunicação atuais provém de pesquisas e estudos estatísticos que permitem realizar inferências, ou seja, fazer deduções a partir de dados analisados sobre certo assunto.\n",
    "\n",
    "O levantamento de dados referente à pandemia provocada pelo vírus SARS-CoV–2, que teve início em 2020 é um exemplo da importância da Estatística para a sociedade.\n",
    "\n",
    "A Estatística colaborou para o levantamento e monitoramento diários de dados referentes à disseminação da covid-19, como novos casos da doença, número de pessoas recuperadas, total de óbitos, entre outras informações, para que governos do mundo inteiro tomassem ações a fim de diminuir as consequências da pandemia.\n",
    "\n",
    "**Link:** https://infoms.saude.gov.br/extensions/covid-19_html/covid-19_html.html "
   ]
  },
  {
   "cell_type": "markdown",
   "metadata": {},
   "source": []
  }
 ],
 "metadata": {
  "language_info": {
   "name": "python"
  }
 },
 "nbformat": 4,
 "nbformat_minor": 2
}
